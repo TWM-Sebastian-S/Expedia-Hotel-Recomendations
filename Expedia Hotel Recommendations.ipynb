{
 "cells": [
  {
   "cell_type": "markdown",
   "metadata": {
    "id": "LwB6CpVBGFn-"
   },
   "source": [
    "# Expedia Hotel Recommendations"
   ]
  },
  {
   "cell_type": "markdown",
   "metadata": {
    "id": "52h5s2nLGFoI"
   },
   "source": [
    "## 1. Framing the Business Problem\n",
    "\n",
    "**This is Kaggle competition that took place 5yrs ago. The following has been extracted from Kaggle.com.**\n",
    "\n",
    "\n",
    "Planning your dream vacation, or even a weekend escape, can be an overwhelming affair. With hundreds, even thousands, of hotels to choose from at every destination, it's difficult to know which will suit your personal preferences. Should you go with an old standby with those pillow mints you like, or risk a new hotel with a trendy pool bar?\n",
    "\n",
    "Expedia wants to take the proverbial rabbit hole out of hotel search by providing personalized hotel recommendations to their users. This is no small task for a site with hundreds of millions of visitors every month!\n",
    "\n",
    "Currently, Expedia uses search parameters to adjust their hotel recommendations, but there aren't enough customer specific data to personalize them for each user. In this competition, Expedia is challenging Kagglers to contextualize customer data and predict the likelihood a user will stay at 100 different hotel groups.\n",
    "\n",
    "The data in this competition is a random selection from Expedia and is not representative of the overall statistics."
   ]
  },
  {
   "cell_type": "markdown",
   "metadata": {
    "id": "PtW8pHdfGFoJ"
   },
   "source": [
    "Expedia has provided us logs of customer behavior. These include what customers searched for, how they interacted with search results (click/book), whether or not the search result was a travel package.\n",
    "\n",
    "Expedia is interested in predicting which hotel group a user is going to book. Expedia has in-house algorithms to form hotel clusters, where similar hotels for a search (based on historical price, customer star ratings, geographical locations relative to city center, etc) are grouped together. These hotel clusters serve as good identifiers to which types of hotels people are going to book, while avoiding outliers such as new hotels that don't have historical data.\n",
    "\n",
    "Our goal is to predict the booking outcome (hotel cluster) for a user event, based on their search and other attributes associated with that user event.\n",
    "\n",
    "Submissions are evaluated according to the Mean Average Precision @ 5.\n",
    "\n",
    "For every user event, you must predict a space-delimited list of the hotel clusters they booked. You may submit up to 5 predictions for each user event. The file should contain a header and have the following format:"
   ]
  },
  {
   "cell_type": "markdown",
   "metadata": {
    "id": "05WDOaNnGFoK"
   },
   "source": [
    "## 2. Loading libraries and dataset"
   ]
  },
  {
   "cell_type": "code",
   "execution_count": 101,
   "metadata": {
    "id": "SNYNg4EzGFoK"
   },
   "outputs": [],
   "source": [
    "import numpy as np \n",
    "import pandas as pd \n",
    "import matplotlib.pyplot as plt\n",
    "import seaborn as sns\n",
    "%matplotlib inline"
   ]
  },
  {
   "cell_type": "code",
   "execution_count": 102,
   "metadata": {
    "id": "2B7hHTFCGFoM"
   },
   "outputs": [],
   "source": [
    "## Given the length of the train dataset, I've decided to shorten it.\n",
    "train=pd.read_csv('train.csv.zip', nrows=10000)\n",
    "test=pd.read_csv('test.csv', nrows=10000)"
   ]
  },
  {
   "cell_type": "markdown",
   "metadata": {
    "id": "4HWviqhsGFoM"
   },
   "source": [
    "**Comments**\n",
    "\n",
    "Creating a subset of a Dataset means removing variables or observations. Doing it in this way without further analysis, could eventually bring bias. We are not 100% sure of how the dataset has been retrieved, if we only work with a piece of information but not taking that piece through sampling in the proper way, \n",
    "\n",
    "This particular Dataset contains 37 million logs of customer behaviour, to avoid the need of a high computational power (or time), I will only work using a subset that has been taken without considering all the sampling principles and best practices."
   ]
  },
  {
   "cell_type": "markdown",
   "metadata": {},
   "source": [
    "## 3. Exploratory Data Analysis (EDA)"
   ]
  },
  {
   "cell_type": "code",
   "execution_count": 103,
   "metadata": {
    "id": "i8YFiOQdGFoN",
    "outputId": "a6891e68-fc3c-4813-dec8-255780842a96",
    "scrolled": true
   },
   "outputs": [
    {
     "data": {
      "text/html": [
       "<div>\n",
       "<style scoped>\n",
       "    .dataframe tbody tr th:only-of-type {\n",
       "        vertical-align: middle;\n",
       "    }\n",
       "\n",
       "    .dataframe tbody tr th {\n",
       "        vertical-align: top;\n",
       "    }\n",
       "\n",
       "    .dataframe thead th {\n",
       "        text-align: right;\n",
       "    }\n",
       "</style>\n",
       "<table border=\"1\" class=\"dataframe\">\n",
       "  <thead>\n",
       "    <tr style=\"text-align: right;\">\n",
       "      <th></th>\n",
       "      <th>date_time</th>\n",
       "      <th>site_name</th>\n",
       "      <th>posa_continent</th>\n",
       "      <th>user_location_country</th>\n",
       "      <th>user_location_region</th>\n",
       "      <th>user_location_city</th>\n",
       "      <th>orig_destination_distance</th>\n",
       "      <th>user_id</th>\n",
       "      <th>is_mobile</th>\n",
       "      <th>is_package</th>\n",
       "      <th>...</th>\n",
       "      <th>srch_children_cnt</th>\n",
       "      <th>srch_rm_cnt</th>\n",
       "      <th>srch_destination_id</th>\n",
       "      <th>srch_destination_type_id</th>\n",
       "      <th>is_booking</th>\n",
       "      <th>cnt</th>\n",
       "      <th>hotel_continent</th>\n",
       "      <th>hotel_country</th>\n",
       "      <th>hotel_market</th>\n",
       "      <th>hotel_cluster</th>\n",
       "    </tr>\n",
       "  </thead>\n",
       "  <tbody>\n",
       "    <tr>\n",
       "      <th>0</th>\n",
       "      <td>2014-08-11 07:46:59</td>\n",
       "      <td>2</td>\n",
       "      <td>3</td>\n",
       "      <td>66</td>\n",
       "      <td>348</td>\n",
       "      <td>48862</td>\n",
       "      <td>2234.2641</td>\n",
       "      <td>12</td>\n",
       "      <td>0</td>\n",
       "      <td>1</td>\n",
       "      <td>...</td>\n",
       "      <td>0</td>\n",
       "      <td>1</td>\n",
       "      <td>8250</td>\n",
       "      <td>1</td>\n",
       "      <td>0</td>\n",
       "      <td>3</td>\n",
       "      <td>2</td>\n",
       "      <td>50</td>\n",
       "      <td>628</td>\n",
       "      <td>1</td>\n",
       "    </tr>\n",
       "    <tr>\n",
       "      <th>1</th>\n",
       "      <td>2014-08-11 08:22:12</td>\n",
       "      <td>2</td>\n",
       "      <td>3</td>\n",
       "      <td>66</td>\n",
       "      <td>348</td>\n",
       "      <td>48862</td>\n",
       "      <td>2234.2641</td>\n",
       "      <td>12</td>\n",
       "      <td>0</td>\n",
       "      <td>1</td>\n",
       "      <td>...</td>\n",
       "      <td>0</td>\n",
       "      <td>1</td>\n",
       "      <td>8250</td>\n",
       "      <td>1</td>\n",
       "      <td>1</td>\n",
       "      <td>1</td>\n",
       "      <td>2</td>\n",
       "      <td>50</td>\n",
       "      <td>628</td>\n",
       "      <td>1</td>\n",
       "    </tr>\n",
       "    <tr>\n",
       "      <th>2</th>\n",
       "      <td>2014-08-11 08:24:33</td>\n",
       "      <td>2</td>\n",
       "      <td>3</td>\n",
       "      <td>66</td>\n",
       "      <td>348</td>\n",
       "      <td>48862</td>\n",
       "      <td>2234.2641</td>\n",
       "      <td>12</td>\n",
       "      <td>0</td>\n",
       "      <td>0</td>\n",
       "      <td>...</td>\n",
       "      <td>0</td>\n",
       "      <td>1</td>\n",
       "      <td>8250</td>\n",
       "      <td>1</td>\n",
       "      <td>0</td>\n",
       "      <td>1</td>\n",
       "      <td>2</td>\n",
       "      <td>50</td>\n",
       "      <td>628</td>\n",
       "      <td>1</td>\n",
       "    </tr>\n",
       "    <tr>\n",
       "      <th>3</th>\n",
       "      <td>2014-08-09 18:05:16</td>\n",
       "      <td>2</td>\n",
       "      <td>3</td>\n",
       "      <td>66</td>\n",
       "      <td>442</td>\n",
       "      <td>35390</td>\n",
       "      <td>913.1932</td>\n",
       "      <td>93</td>\n",
       "      <td>0</td>\n",
       "      <td>0</td>\n",
       "      <td>...</td>\n",
       "      <td>0</td>\n",
       "      <td>1</td>\n",
       "      <td>14984</td>\n",
       "      <td>1</td>\n",
       "      <td>0</td>\n",
       "      <td>1</td>\n",
       "      <td>2</td>\n",
       "      <td>50</td>\n",
       "      <td>1457</td>\n",
       "      <td>80</td>\n",
       "    </tr>\n",
       "    <tr>\n",
       "      <th>4</th>\n",
       "      <td>2014-08-09 18:08:18</td>\n",
       "      <td>2</td>\n",
       "      <td>3</td>\n",
       "      <td>66</td>\n",
       "      <td>442</td>\n",
       "      <td>35390</td>\n",
       "      <td>913.6259</td>\n",
       "      <td>93</td>\n",
       "      <td>0</td>\n",
       "      <td>0</td>\n",
       "      <td>...</td>\n",
       "      <td>0</td>\n",
       "      <td>1</td>\n",
       "      <td>14984</td>\n",
       "      <td>1</td>\n",
       "      <td>0</td>\n",
       "      <td>1</td>\n",
       "      <td>2</td>\n",
       "      <td>50</td>\n",
       "      <td>1457</td>\n",
       "      <td>21</td>\n",
       "    </tr>\n",
       "  </tbody>\n",
       "</table>\n",
       "<p>5 rows × 24 columns</p>\n",
       "</div>"
      ],
      "text/plain": [
       "             date_time  site_name  posa_continent  user_location_country  \\\n",
       "0  2014-08-11 07:46:59          2               3                     66   \n",
       "1  2014-08-11 08:22:12          2               3                     66   \n",
       "2  2014-08-11 08:24:33          2               3                     66   \n",
       "3  2014-08-09 18:05:16          2               3                     66   \n",
       "4  2014-08-09 18:08:18          2               3                     66   \n",
       "\n",
       "   user_location_region  user_location_city  orig_destination_distance  \\\n",
       "0                   348               48862                  2234.2641   \n",
       "1                   348               48862                  2234.2641   \n",
       "2                   348               48862                  2234.2641   \n",
       "3                   442               35390                   913.1932   \n",
       "4                   442               35390                   913.6259   \n",
       "\n",
       "   user_id  is_mobile  is_package  ...  srch_children_cnt srch_rm_cnt  \\\n",
       "0       12          0           1  ...                  0           1   \n",
       "1       12          0           1  ...                  0           1   \n",
       "2       12          0           0  ...                  0           1   \n",
       "3       93          0           0  ...                  0           1   \n",
       "4       93          0           0  ...                  0           1   \n",
       "\n",
       "  srch_destination_id  srch_destination_type_id  is_booking  cnt  \\\n",
       "0                8250                         1           0    3   \n",
       "1                8250                         1           1    1   \n",
       "2                8250                         1           0    1   \n",
       "3               14984                         1           0    1   \n",
       "4               14984                         1           0    1   \n",
       "\n",
       "   hotel_continent  hotel_country  hotel_market  hotel_cluster  \n",
       "0                2             50           628              1  \n",
       "1                2             50           628              1  \n",
       "2                2             50           628              1  \n",
       "3                2             50          1457             80  \n",
       "4                2             50          1457             21  \n",
       "\n",
       "[5 rows x 24 columns]"
      ]
     },
     "execution_count": 103,
     "metadata": {},
     "output_type": "execute_result"
    }
   ],
   "source": [
    "train.head()"
   ]
  },
  {
   "cell_type": "code",
   "execution_count": 104,
   "metadata": {
    "id": "ECwe6XL1SL6e",
    "outputId": "e49cf0c3-0423-4efe-edc7-e32bfd4028d5"
   },
   "outputs": [
    {
     "data": {
      "text/plain": [
       "Index(['date_time', 'site_name', 'posa_continent', 'user_location_country',\n",
       "       'user_location_region', 'user_location_city',\n",
       "       'orig_destination_distance', 'user_id', 'is_mobile', 'is_package',\n",
       "       'channel', 'srch_ci', 'srch_co', 'srch_adults_cnt', 'srch_children_cnt',\n",
       "       'srch_rm_cnt', 'srch_destination_id', 'srch_destination_type_id',\n",
       "       'is_booking', 'cnt', 'hotel_continent', 'hotel_country', 'hotel_market',\n",
       "       'hotel_cluster'],\n",
       "      dtype='object')"
      ]
     },
     "execution_count": 104,
     "metadata": {},
     "output_type": "execute_result"
    }
   ],
   "source": [
    "train.columns"
   ]
  },
  {
   "cell_type": "code",
   "execution_count": 105,
   "metadata": {
    "id": "B-k6pFPJGFoO",
    "outputId": "3161cc48-d099-4909-96bf-066e7a0b7692"
   },
   "outputs": [
    {
     "data": {
      "text/html": [
       "<div>\n",
       "<style scoped>\n",
       "    .dataframe tbody tr th:only-of-type {\n",
       "        vertical-align: middle;\n",
       "    }\n",
       "\n",
       "    .dataframe tbody tr th {\n",
       "        vertical-align: top;\n",
       "    }\n",
       "\n",
       "    .dataframe thead th {\n",
       "        text-align: right;\n",
       "    }\n",
       "</style>\n",
       "<table border=\"1\" class=\"dataframe\">\n",
       "  <thead>\n",
       "    <tr style=\"text-align: right;\">\n",
       "      <th></th>\n",
       "      <th>id</th>\n",
       "      <th>date_time</th>\n",
       "      <th>site_name</th>\n",
       "      <th>posa_continent</th>\n",
       "      <th>user_location_country</th>\n",
       "      <th>user_location_region</th>\n",
       "      <th>user_location_city</th>\n",
       "      <th>orig_destination_distance</th>\n",
       "      <th>user_id</th>\n",
       "      <th>is_mobile</th>\n",
       "      <th>...</th>\n",
       "      <th>srch_ci</th>\n",
       "      <th>srch_co</th>\n",
       "      <th>srch_adults_cnt</th>\n",
       "      <th>srch_children_cnt</th>\n",
       "      <th>srch_rm_cnt</th>\n",
       "      <th>srch_destination_id</th>\n",
       "      <th>srch_destination_type_id</th>\n",
       "      <th>hotel_continent</th>\n",
       "      <th>hotel_country</th>\n",
       "      <th>hotel_market</th>\n",
       "    </tr>\n",
       "  </thead>\n",
       "  <tbody>\n",
       "    <tr>\n",
       "      <th>0</th>\n",
       "      <td>0</td>\n",
       "      <td>2015-09-03 17:09:54</td>\n",
       "      <td>2</td>\n",
       "      <td>3</td>\n",
       "      <td>66</td>\n",
       "      <td>174</td>\n",
       "      <td>37449</td>\n",
       "      <td>5539.0567</td>\n",
       "      <td>1</td>\n",
       "      <td>1</td>\n",
       "      <td>...</td>\n",
       "      <td>2016-05-19</td>\n",
       "      <td>2016-05-23</td>\n",
       "      <td>2</td>\n",
       "      <td>0</td>\n",
       "      <td>1</td>\n",
       "      <td>12243</td>\n",
       "      <td>6</td>\n",
       "      <td>6</td>\n",
       "      <td>204</td>\n",
       "      <td>27</td>\n",
       "    </tr>\n",
       "    <tr>\n",
       "      <th>1</th>\n",
       "      <td>1</td>\n",
       "      <td>2015-09-24 17:38:35</td>\n",
       "      <td>2</td>\n",
       "      <td>3</td>\n",
       "      <td>66</td>\n",
       "      <td>174</td>\n",
       "      <td>37449</td>\n",
       "      <td>5873.2923</td>\n",
       "      <td>1</td>\n",
       "      <td>1</td>\n",
       "      <td>...</td>\n",
       "      <td>2016-05-12</td>\n",
       "      <td>2016-05-15</td>\n",
       "      <td>2</td>\n",
       "      <td>0</td>\n",
       "      <td>1</td>\n",
       "      <td>14474</td>\n",
       "      <td>7</td>\n",
       "      <td>6</td>\n",
       "      <td>204</td>\n",
       "      <td>1540</td>\n",
       "    </tr>\n",
       "    <tr>\n",
       "      <th>2</th>\n",
       "      <td>2</td>\n",
       "      <td>2015-06-07 15:53:02</td>\n",
       "      <td>2</td>\n",
       "      <td>3</td>\n",
       "      <td>66</td>\n",
       "      <td>142</td>\n",
       "      <td>17440</td>\n",
       "      <td>3975.9776</td>\n",
       "      <td>20</td>\n",
       "      <td>0</td>\n",
       "      <td>...</td>\n",
       "      <td>2015-07-26</td>\n",
       "      <td>2015-07-27</td>\n",
       "      <td>4</td>\n",
       "      <td>0</td>\n",
       "      <td>1</td>\n",
       "      <td>11353</td>\n",
       "      <td>1</td>\n",
       "      <td>2</td>\n",
       "      <td>50</td>\n",
       "      <td>699</td>\n",
       "    </tr>\n",
       "    <tr>\n",
       "      <th>3</th>\n",
       "      <td>3</td>\n",
       "      <td>2015-09-14 14:49:10</td>\n",
       "      <td>2</td>\n",
       "      <td>3</td>\n",
       "      <td>66</td>\n",
       "      <td>258</td>\n",
       "      <td>34156</td>\n",
       "      <td>1508.5975</td>\n",
       "      <td>28</td>\n",
       "      <td>0</td>\n",
       "      <td>...</td>\n",
       "      <td>2015-09-14</td>\n",
       "      <td>2015-09-16</td>\n",
       "      <td>2</td>\n",
       "      <td>0</td>\n",
       "      <td>1</td>\n",
       "      <td>8250</td>\n",
       "      <td>1</td>\n",
       "      <td>2</td>\n",
       "      <td>50</td>\n",
       "      <td>628</td>\n",
       "    </tr>\n",
       "    <tr>\n",
       "      <th>4</th>\n",
       "      <td>4</td>\n",
       "      <td>2015-07-17 09:32:04</td>\n",
       "      <td>2</td>\n",
       "      <td>3</td>\n",
       "      <td>66</td>\n",
       "      <td>467</td>\n",
       "      <td>36345</td>\n",
       "      <td>66.7913</td>\n",
       "      <td>50</td>\n",
       "      <td>0</td>\n",
       "      <td>...</td>\n",
       "      <td>2015-07-22</td>\n",
       "      <td>2015-07-23</td>\n",
       "      <td>2</td>\n",
       "      <td>0</td>\n",
       "      <td>1</td>\n",
       "      <td>11812</td>\n",
       "      <td>1</td>\n",
       "      <td>2</td>\n",
       "      <td>50</td>\n",
       "      <td>538</td>\n",
       "    </tr>\n",
       "  </tbody>\n",
       "</table>\n",
       "<p>5 rows × 22 columns</p>\n",
       "</div>"
      ],
      "text/plain": [
       "   id            date_time  site_name  posa_continent  user_location_country  \\\n",
       "0   0  2015-09-03 17:09:54          2               3                     66   \n",
       "1   1  2015-09-24 17:38:35          2               3                     66   \n",
       "2   2  2015-06-07 15:53:02          2               3                     66   \n",
       "3   3  2015-09-14 14:49:10          2               3                     66   \n",
       "4   4  2015-07-17 09:32:04          2               3                     66   \n",
       "\n",
       "   user_location_region  user_location_city  orig_destination_distance  \\\n",
       "0                   174               37449                  5539.0567   \n",
       "1                   174               37449                  5873.2923   \n",
       "2                   142               17440                  3975.9776   \n",
       "3                   258               34156                  1508.5975   \n",
       "4                   467               36345                    66.7913   \n",
       "\n",
       "   user_id  is_mobile  ...     srch_ci     srch_co srch_adults_cnt  \\\n",
       "0        1          1  ...  2016-05-19  2016-05-23               2   \n",
       "1        1          1  ...  2016-05-12  2016-05-15               2   \n",
       "2       20          0  ...  2015-07-26  2015-07-27               4   \n",
       "3       28          0  ...  2015-09-14  2015-09-16               2   \n",
       "4       50          0  ...  2015-07-22  2015-07-23               2   \n",
       "\n",
       "  srch_children_cnt  srch_rm_cnt  srch_destination_id  \\\n",
       "0                 0            1                12243   \n",
       "1                 0            1                14474   \n",
       "2                 0            1                11353   \n",
       "3                 0            1                 8250   \n",
       "4                 0            1                11812   \n",
       "\n",
       "   srch_destination_type_id  hotel_continent  hotel_country  hotel_market  \n",
       "0                         6                6            204            27  \n",
       "1                         7                6            204          1540  \n",
       "2                         1                2             50           699  \n",
       "3                         1                2             50           628  \n",
       "4                         1                2             50           538  \n",
       "\n",
       "[5 rows x 22 columns]"
      ]
     },
     "execution_count": 105,
     "metadata": {},
     "output_type": "execute_result"
    }
   ],
   "source": [
    "test.head()"
   ]
  },
  {
   "cell_type": "markdown",
   "metadata": {
    "id": "YcckaPtxGFoP"
   },
   "source": [
    "**Comments**\n",
    "\n",
    "All the dates in test dataset are 1 year later than the dates in train. The testing set contains dates from 2015, and the training set contains dates from 2013 and 2014. This could eventually bring issues if the two datasets are not similar from a sampling/population standpoint, hence it may have some bias. "
   ]
  },
  {
   "cell_type": "code",
   "execution_count": 106,
   "metadata": {
    "id": "2wGtD2-mGFoP",
    "outputId": "acb975d8-153c-43c6-be69-dc45802086ca"
   },
   "outputs": [
    {
     "name": "stdout",
     "output_type": "stream",
     "text": [
      "<class 'pandas.core.frame.DataFrame'>\n",
      "RangeIndex: 10000 entries, 0 to 9999\n",
      "Data columns (total 24 columns):\n",
      " #   Column                     Non-Null Count  Dtype  \n",
      "---  ------                     --------------  -----  \n",
      " 0   date_time                  10000 non-null  object \n",
      " 1   site_name                  10000 non-null  int64  \n",
      " 2   posa_continent             10000 non-null  int64  \n",
      " 3   user_location_country      10000 non-null  int64  \n",
      " 4   user_location_region       10000 non-null  int64  \n",
      " 5   user_location_city         10000 non-null  int64  \n",
      " 6   orig_destination_distance  6271 non-null   float64\n",
      " 7   user_id                    10000 non-null  int64  \n",
      " 8   is_mobile                  10000 non-null  int64  \n",
      " 9   is_package                 10000 non-null  int64  \n",
      " 10  channel                    10000 non-null  int64  \n",
      " 11  srch_ci                    9993 non-null   object \n",
      " 12  srch_co                    9993 non-null   object \n",
      " 13  srch_adults_cnt            10000 non-null  int64  \n",
      " 14  srch_children_cnt          10000 non-null  int64  \n",
      " 15  srch_rm_cnt                10000 non-null  int64  \n",
      " 16  srch_destination_id        10000 non-null  int64  \n",
      " 17  srch_destination_type_id   10000 non-null  int64  \n",
      " 18  is_booking                 10000 non-null  int64  \n",
      " 19  cnt                        10000 non-null  int64  \n",
      " 20  hotel_continent            10000 non-null  int64  \n",
      " 21  hotel_country              10000 non-null  int64  \n",
      " 22  hotel_market               10000 non-null  int64  \n",
      " 23  hotel_cluster              10000 non-null  int64  \n",
      "dtypes: float64(1), int64(20), object(3)\n",
      "memory usage: 1.8+ MB\n"
     ]
    }
   ],
   "source": [
    "#checking the information of the dataset and columns types\n",
    "train.info()"
   ]
  },
  {
   "cell_type": "code",
   "execution_count": 107,
   "metadata": {
    "id": "YNQQhyWtGFoQ",
    "outputId": "3a9af755-ac99-4cb4-d605-3cab1b2de255"
   },
   "outputs": [
    {
     "data": {
      "text/html": [
       "<div>\n",
       "<style scoped>\n",
       "    .dataframe tbody tr th:only-of-type {\n",
       "        vertical-align: middle;\n",
       "    }\n",
       "\n",
       "    .dataframe tbody tr th {\n",
       "        vertical-align: top;\n",
       "    }\n",
       "\n",
       "    .dataframe thead th {\n",
       "        text-align: right;\n",
       "    }\n",
       "</style>\n",
       "<table border=\"1\" class=\"dataframe\">\n",
       "  <thead>\n",
       "    <tr style=\"text-align: right;\">\n",
       "      <th></th>\n",
       "      <th>id</th>\n",
       "      <th>date_time</th>\n",
       "      <th>site_name</th>\n",
       "      <th>posa_continent</th>\n",
       "      <th>user_location_country</th>\n",
       "      <th>user_location_region</th>\n",
       "      <th>user_location_city</th>\n",
       "      <th>orig_destination_distance</th>\n",
       "      <th>user_id</th>\n",
       "      <th>is_mobile</th>\n",
       "      <th>...</th>\n",
       "      <th>srch_ci</th>\n",
       "      <th>srch_co</th>\n",
       "      <th>srch_adults_cnt</th>\n",
       "      <th>srch_children_cnt</th>\n",
       "      <th>srch_rm_cnt</th>\n",
       "      <th>srch_destination_id</th>\n",
       "      <th>srch_destination_type_id</th>\n",
       "      <th>hotel_continent</th>\n",
       "      <th>hotel_country</th>\n",
       "      <th>hotel_market</th>\n",
       "    </tr>\n",
       "  </thead>\n",
       "  <tbody>\n",
       "    <tr>\n",
       "      <th>0</th>\n",
       "      <td>0</td>\n",
       "      <td>2015-09-03 17:09:54</td>\n",
       "      <td>2</td>\n",
       "      <td>3</td>\n",
       "      <td>66</td>\n",
       "      <td>174</td>\n",
       "      <td>37449</td>\n",
       "      <td>5539.0567</td>\n",
       "      <td>1</td>\n",
       "      <td>1</td>\n",
       "      <td>...</td>\n",
       "      <td>2016-05-19</td>\n",
       "      <td>2016-05-23</td>\n",
       "      <td>2</td>\n",
       "      <td>0</td>\n",
       "      <td>1</td>\n",
       "      <td>12243</td>\n",
       "      <td>6</td>\n",
       "      <td>6</td>\n",
       "      <td>204</td>\n",
       "      <td>27</td>\n",
       "    </tr>\n",
       "    <tr>\n",
       "      <th>1</th>\n",
       "      <td>1</td>\n",
       "      <td>2015-09-24 17:38:35</td>\n",
       "      <td>2</td>\n",
       "      <td>3</td>\n",
       "      <td>66</td>\n",
       "      <td>174</td>\n",
       "      <td>37449</td>\n",
       "      <td>5873.2923</td>\n",
       "      <td>1</td>\n",
       "      <td>1</td>\n",
       "      <td>...</td>\n",
       "      <td>2016-05-12</td>\n",
       "      <td>2016-05-15</td>\n",
       "      <td>2</td>\n",
       "      <td>0</td>\n",
       "      <td>1</td>\n",
       "      <td>14474</td>\n",
       "      <td>7</td>\n",
       "      <td>6</td>\n",
       "      <td>204</td>\n",
       "      <td>1540</td>\n",
       "    </tr>\n",
       "    <tr>\n",
       "      <th>2</th>\n",
       "      <td>2</td>\n",
       "      <td>2015-06-07 15:53:02</td>\n",
       "      <td>2</td>\n",
       "      <td>3</td>\n",
       "      <td>66</td>\n",
       "      <td>142</td>\n",
       "      <td>17440</td>\n",
       "      <td>3975.9776</td>\n",
       "      <td>20</td>\n",
       "      <td>0</td>\n",
       "      <td>...</td>\n",
       "      <td>2015-07-26</td>\n",
       "      <td>2015-07-27</td>\n",
       "      <td>4</td>\n",
       "      <td>0</td>\n",
       "      <td>1</td>\n",
       "      <td>11353</td>\n",
       "      <td>1</td>\n",
       "      <td>2</td>\n",
       "      <td>50</td>\n",
       "      <td>699</td>\n",
       "    </tr>\n",
       "    <tr>\n",
       "      <th>3</th>\n",
       "      <td>3</td>\n",
       "      <td>2015-09-14 14:49:10</td>\n",
       "      <td>2</td>\n",
       "      <td>3</td>\n",
       "      <td>66</td>\n",
       "      <td>258</td>\n",
       "      <td>34156</td>\n",
       "      <td>1508.5975</td>\n",
       "      <td>28</td>\n",
       "      <td>0</td>\n",
       "      <td>...</td>\n",
       "      <td>2015-09-14</td>\n",
       "      <td>2015-09-16</td>\n",
       "      <td>2</td>\n",
       "      <td>0</td>\n",
       "      <td>1</td>\n",
       "      <td>8250</td>\n",
       "      <td>1</td>\n",
       "      <td>2</td>\n",
       "      <td>50</td>\n",
       "      <td>628</td>\n",
       "    </tr>\n",
       "    <tr>\n",
       "      <th>4</th>\n",
       "      <td>4</td>\n",
       "      <td>2015-07-17 09:32:04</td>\n",
       "      <td>2</td>\n",
       "      <td>3</td>\n",
       "      <td>66</td>\n",
       "      <td>467</td>\n",
       "      <td>36345</td>\n",
       "      <td>66.7913</td>\n",
       "      <td>50</td>\n",
       "      <td>0</td>\n",
       "      <td>...</td>\n",
       "      <td>2015-07-22</td>\n",
       "      <td>2015-07-23</td>\n",
       "      <td>2</td>\n",
       "      <td>0</td>\n",
       "      <td>1</td>\n",
       "      <td>11812</td>\n",
       "      <td>1</td>\n",
       "      <td>2</td>\n",
       "      <td>50</td>\n",
       "      <td>538</td>\n",
       "    </tr>\n",
       "  </tbody>\n",
       "</table>\n",
       "<p>5 rows × 22 columns</p>\n",
       "</div>"
      ],
      "text/plain": [
       "   id            date_time  site_name  posa_continent  user_location_country  \\\n",
       "0   0  2015-09-03 17:09:54          2               3                     66   \n",
       "1   1  2015-09-24 17:38:35          2               3                     66   \n",
       "2   2  2015-06-07 15:53:02          2               3                     66   \n",
       "3   3  2015-09-14 14:49:10          2               3                     66   \n",
       "4   4  2015-07-17 09:32:04          2               3                     66   \n",
       "\n",
       "   user_location_region  user_location_city  orig_destination_distance  \\\n",
       "0                   174               37449                  5539.0567   \n",
       "1                   174               37449                  5873.2923   \n",
       "2                   142               17440                  3975.9776   \n",
       "3                   258               34156                  1508.5975   \n",
       "4                   467               36345                    66.7913   \n",
       "\n",
       "   user_id  is_mobile  ...     srch_ci     srch_co srch_adults_cnt  \\\n",
       "0        1          1  ...  2016-05-19  2016-05-23               2   \n",
       "1        1          1  ...  2016-05-12  2016-05-15               2   \n",
       "2       20          0  ...  2015-07-26  2015-07-27               4   \n",
       "3       28          0  ...  2015-09-14  2015-09-16               2   \n",
       "4       50          0  ...  2015-07-22  2015-07-23               2   \n",
       "\n",
       "  srch_children_cnt  srch_rm_cnt  srch_destination_id  \\\n",
       "0                 0            1                12243   \n",
       "1                 0            1                14474   \n",
       "2                 0            1                11353   \n",
       "3                 0            1                 8250   \n",
       "4                 0            1                11812   \n",
       "\n",
       "   srch_destination_type_id  hotel_continent  hotel_country  hotel_market  \n",
       "0                         6                6            204            27  \n",
       "1                         7                6            204          1540  \n",
       "2                         1                2             50           699  \n",
       "3                         1                2             50           628  \n",
       "4                         1                2             50           538  \n",
       "\n",
       "[5 rows x 22 columns]"
      ]
     },
     "execution_count": 107,
     "metadata": {},
     "output_type": "execute_result"
    }
   ],
   "source": [
    "test.head()"
   ]
  },
  {
   "cell_type": "markdown",
   "metadata": {
    "id": "F77ZFr0aGFoQ"
   },
   "source": [
    "**Comments**\n",
    "\n",
    "- Descriptions of each columns has been provided by Expedia in Kaggle. Hence, no need to explain them again.\n",
    "- We need to parse date time format to the columns that contains dates."
   ]
  },
  {
   "cell_type": "code",
   "execution_count": 108,
   "metadata": {
    "id": "X47Y2qwBGFoR"
   },
   "outputs": [],
   "source": [
    "#reloading the dataset with date_time formats\n",
    "train = pd.read_csv('train.csv.zip', parse_dates=['date_time'] ,sep=',',nrows=10000)"
   ]
  },
  {
   "cell_type": "code",
   "execution_count": 109,
   "metadata": {
    "id": "FGHin6DAGFoR",
    "outputId": "981d8053-c24d-4f76-dbc9-61cebbdc467a"
   },
   "outputs": [
    {
     "data": {
      "text/plain": [
       "(10000, 24)"
      ]
     },
     "execution_count": 109,
     "metadata": {},
     "output_type": "execute_result"
    }
   ],
   "source": [
    "train.shape"
   ]
  },
  {
   "cell_type": "code",
   "execution_count": 110,
   "metadata": {
    "id": "gNENf-vGGFoS",
    "outputId": "1b410b67-0614-4a68-e3ed-e47a4b9ea169"
   },
   "outputs": [
    {
     "data": {
      "text/plain": [
       "date_time                    datetime64[ns]\n",
       "site_name                             int64\n",
       "posa_continent                        int64\n",
       "user_location_country                 int64\n",
       "user_location_region                  int64\n",
       "user_location_city                    int64\n",
       "orig_destination_distance           float64\n",
       "user_id                               int64\n",
       "is_mobile                             int64\n",
       "is_package                            int64\n",
       "channel                               int64\n",
       "srch_ci                              object\n",
       "srch_co                              object\n",
       "srch_adults_cnt                       int64\n",
       "srch_children_cnt                     int64\n",
       "srch_rm_cnt                           int64\n",
       "srch_destination_id                   int64\n",
       "srch_destination_type_id              int64\n",
       "is_booking                            int64\n",
       "cnt                                   int64\n",
       "hotel_continent                       int64\n",
       "hotel_country                         int64\n",
       "hotel_market                          int64\n",
       "hotel_cluster                         int64\n",
       "dtype: object"
      ]
     },
     "execution_count": 110,
     "metadata": {},
     "output_type": "execute_result"
    }
   ],
   "source": [
    "#rechecking the date_time formats\n",
    "train.dtypes"
   ]
  },
  {
   "cell_type": "code",
   "execution_count": 111,
   "metadata": {},
   "outputs": [
    {
     "data": {
      "text/html": [
       "<div>\n",
       "<style scoped>\n",
       "    .dataframe tbody tr th:only-of-type {\n",
       "        vertical-align: middle;\n",
       "    }\n",
       "\n",
       "    .dataframe tbody tr th {\n",
       "        vertical-align: top;\n",
       "    }\n",
       "\n",
       "    .dataframe thead th {\n",
       "        text-align: right;\n",
       "    }\n",
       "</style>\n",
       "<table border=\"1\" class=\"dataframe\">\n",
       "  <thead>\n",
       "    <tr style=\"text-align: right;\">\n",
       "      <th></th>\n",
       "      <th>site_name</th>\n",
       "      <th>posa_continent</th>\n",
       "      <th>user_location_country</th>\n",
       "      <th>user_location_region</th>\n",
       "      <th>user_location_city</th>\n",
       "      <th>orig_destination_distance</th>\n",
       "      <th>user_id</th>\n",
       "      <th>is_mobile</th>\n",
       "      <th>is_package</th>\n",
       "      <th>channel</th>\n",
       "      <th>...</th>\n",
       "      <th>srch_children_cnt</th>\n",
       "      <th>srch_rm_cnt</th>\n",
       "      <th>srch_destination_id</th>\n",
       "      <th>srch_destination_type_id</th>\n",
       "      <th>is_booking</th>\n",
       "      <th>cnt</th>\n",
       "      <th>hotel_continent</th>\n",
       "      <th>hotel_country</th>\n",
       "      <th>hotel_market</th>\n",
       "      <th>hotel_cluster</th>\n",
       "    </tr>\n",
       "  </thead>\n",
       "  <tbody>\n",
       "    <tr>\n",
       "      <th>count</th>\n",
       "      <td>10000.000000</td>\n",
       "      <td>10000.000000</td>\n",
       "      <td>10000.000000</td>\n",
       "      <td>10000.000000</td>\n",
       "      <td>10000.000000</td>\n",
       "      <td>6271.000000</td>\n",
       "      <td>10000.000000</td>\n",
       "      <td>10000.000000</td>\n",
       "      <td>10000.000000</td>\n",
       "      <td>10000.00000</td>\n",
       "      <td>...</td>\n",
       "      <td>10000.000000</td>\n",
       "      <td>10000.00000</td>\n",
       "      <td>10000.000000</td>\n",
       "      <td>10000.000000</td>\n",
       "      <td>10000.000000</td>\n",
       "      <td>10000.000000</td>\n",
       "      <td>10000.000000</td>\n",
       "      <td>10000.000000</td>\n",
       "      <td>10000.000000</td>\n",
       "      <td>10000.000000</td>\n",
       "    </tr>\n",
       "    <tr>\n",
       "      <th>mean</th>\n",
       "      <td>8.261400</td>\n",
       "      <td>2.744400</td>\n",
       "      <td>85.711700</td>\n",
       "      <td>272.578700</td>\n",
       "      <td>26941.592000</td>\n",
       "      <td>1833.809641</td>\n",
       "      <td>29121.770900</td>\n",
       "      <td>0.206600</td>\n",
       "      <td>0.220100</td>\n",
       "      <td>5.70210</td>\n",
       "      <td>...</td>\n",
       "      <td>0.349100</td>\n",
       "      <td>1.12780</td>\n",
       "      <td>14807.539200</td>\n",
       "      <td>2.641100</td>\n",
       "      <td>0.077700</td>\n",
       "      <td>1.456100</td>\n",
       "      <td>3.149200</td>\n",
       "      <td>80.198000</td>\n",
       "      <td>575.825700</td>\n",
       "      <td>49.120100</td>\n",
       "    </tr>\n",
       "    <tr>\n",
       "      <th>std</th>\n",
       "      <td>10.352004</td>\n",
       "      <td>0.590511</td>\n",
       "      <td>61.545901</td>\n",
       "      <td>178.451546</td>\n",
       "      <td>17472.051101</td>\n",
       "      <td>2028.265606</td>\n",
       "      <td>17115.773996</td>\n",
       "      <td>0.404886</td>\n",
       "      <td>0.414335</td>\n",
       "      <td>3.59959</td>\n",
       "      <td>...</td>\n",
       "      <td>0.761241</td>\n",
       "      <td>0.55308</td>\n",
       "      <td>11454.009352</td>\n",
       "      <td>2.203446</td>\n",
       "      <td>0.267712</td>\n",
       "      <td>1.167565</td>\n",
       "      <td>1.539213</td>\n",
       "      <td>55.267289</td>\n",
       "      <td>494.452768</td>\n",
       "      <td>28.705492</td>\n",
       "    </tr>\n",
       "    <tr>\n",
       "      <th>min</th>\n",
       "      <td>2.000000</td>\n",
       "      <td>0.000000</td>\n",
       "      <td>0.000000</td>\n",
       "      <td>0.000000</td>\n",
       "      <td>3.000000</td>\n",
       "      <td>0.065100</td>\n",
       "      <td>12.000000</td>\n",
       "      <td>0.000000</td>\n",
       "      <td>0.000000</td>\n",
       "      <td>0.00000</td>\n",
       "      <td>...</td>\n",
       "      <td>0.000000</td>\n",
       "      <td>0.00000</td>\n",
       "      <td>11.000000</td>\n",
       "      <td>1.000000</td>\n",
       "      <td>0.000000</td>\n",
       "      <td>1.000000</td>\n",
       "      <td>0.000000</td>\n",
       "      <td>0.000000</td>\n",
       "      <td>0.000000</td>\n",
       "      <td>0.000000</td>\n",
       "    </tr>\n",
       "    <tr>\n",
       "      <th>25%</th>\n",
       "      <td>2.000000</td>\n",
       "      <td>3.000000</td>\n",
       "      <td>66.000000</td>\n",
       "      <td>172.000000</td>\n",
       "      <td>9876.000000</td>\n",
       "      <td>261.557950</td>\n",
       "      <td>12950.000000</td>\n",
       "      <td>0.000000</td>\n",
       "      <td>0.000000</td>\n",
       "      <td>2.00000</td>\n",
       "      <td>...</td>\n",
       "      <td>0.000000</td>\n",
       "      <td>1.00000</td>\n",
       "      <td>8268.000000</td>\n",
       "      <td>1.000000</td>\n",
       "      <td>0.000000</td>\n",
       "      <td>1.000000</td>\n",
       "      <td>2.000000</td>\n",
       "      <td>50.000000</td>\n",
       "      <td>142.000000</td>\n",
       "      <td>25.000000</td>\n",
       "    </tr>\n",
       "    <tr>\n",
       "      <th>50%</th>\n",
       "      <td>2.000000</td>\n",
       "      <td>3.000000</td>\n",
       "      <td>66.000000</td>\n",
       "      <td>258.000000</td>\n",
       "      <td>25954.000000</td>\n",
       "      <td>1210.896700</td>\n",
       "      <td>30977.000000</td>\n",
       "      <td>0.000000</td>\n",
       "      <td>0.000000</td>\n",
       "      <td>9.00000</td>\n",
       "      <td>...</td>\n",
       "      <td>0.000000</td>\n",
       "      <td>1.00000</td>\n",
       "      <td>10970.500000</td>\n",
       "      <td>1.000000</td>\n",
       "      <td>0.000000</td>\n",
       "      <td>1.000000</td>\n",
       "      <td>2.000000</td>\n",
       "      <td>50.000000</td>\n",
       "      <td>544.000000</td>\n",
       "      <td>48.000000</td>\n",
       "    </tr>\n",
       "    <tr>\n",
       "      <th>75%</th>\n",
       "      <td>11.000000</td>\n",
       "      <td>3.000000</td>\n",
       "      <td>69.000000</td>\n",
       "      <td>354.000000</td>\n",
       "      <td>43175.000000</td>\n",
       "      <td>2397.099800</td>\n",
       "      <td>44663.000000</td>\n",
       "      <td>0.000000</td>\n",
       "      <td>0.000000</td>\n",
       "      <td>9.00000</td>\n",
       "      <td>...</td>\n",
       "      <td>0.000000</td>\n",
       "      <td>1.00000</td>\n",
       "      <td>18714.000000</td>\n",
       "      <td>5.000000</td>\n",
       "      <td>0.000000</td>\n",
       "      <td>1.000000</td>\n",
       "      <td>4.000000</td>\n",
       "      <td>105.000000</td>\n",
       "      <td>700.000000</td>\n",
       "      <td>73.000000</td>\n",
       "    </tr>\n",
       "    <tr>\n",
       "      <th>max</th>\n",
       "      <td>47.000000</td>\n",
       "      <td>4.000000</td>\n",
       "      <td>239.000000</td>\n",
       "      <td>1003.000000</td>\n",
       "      <td>56451.000000</td>\n",
       "      <td>11301.871400</td>\n",
       "      <td>54404.000000</td>\n",
       "      <td>1.000000</td>\n",
       "      <td>1.000000</td>\n",
       "      <td>9.00000</td>\n",
       "      <td>...</td>\n",
       "      <td>9.000000</td>\n",
       "      <td>8.00000</td>\n",
       "      <td>65035.000000</td>\n",
       "      <td>8.000000</td>\n",
       "      <td>1.000000</td>\n",
       "      <td>23.000000</td>\n",
       "      <td>6.000000</td>\n",
       "      <td>208.000000</td>\n",
       "      <td>2103.000000</td>\n",
       "      <td>99.000000</td>\n",
       "    </tr>\n",
       "  </tbody>\n",
       "</table>\n",
       "<p>8 rows × 21 columns</p>\n",
       "</div>"
      ],
      "text/plain": [
       "          site_name  posa_continent  user_location_country  \\\n",
       "count  10000.000000    10000.000000           10000.000000   \n",
       "mean       8.261400        2.744400              85.711700   \n",
       "std       10.352004        0.590511              61.545901   \n",
       "min        2.000000        0.000000               0.000000   \n",
       "25%        2.000000        3.000000              66.000000   \n",
       "50%        2.000000        3.000000              66.000000   \n",
       "75%       11.000000        3.000000              69.000000   \n",
       "max       47.000000        4.000000             239.000000   \n",
       "\n",
       "       user_location_region  user_location_city  orig_destination_distance  \\\n",
       "count          10000.000000        10000.000000                6271.000000   \n",
       "mean             272.578700        26941.592000                1833.809641   \n",
       "std              178.451546        17472.051101                2028.265606   \n",
       "min                0.000000            3.000000                   0.065100   \n",
       "25%              172.000000         9876.000000                 261.557950   \n",
       "50%              258.000000        25954.000000                1210.896700   \n",
       "75%              354.000000        43175.000000                2397.099800   \n",
       "max             1003.000000        56451.000000               11301.871400   \n",
       "\n",
       "            user_id     is_mobile    is_package      channel  ...  \\\n",
       "count  10000.000000  10000.000000  10000.000000  10000.00000  ...   \n",
       "mean   29121.770900      0.206600      0.220100      5.70210  ...   \n",
       "std    17115.773996      0.404886      0.414335      3.59959  ...   \n",
       "min       12.000000      0.000000      0.000000      0.00000  ...   \n",
       "25%    12950.000000      0.000000      0.000000      2.00000  ...   \n",
       "50%    30977.000000      0.000000      0.000000      9.00000  ...   \n",
       "75%    44663.000000      0.000000      0.000000      9.00000  ...   \n",
       "max    54404.000000      1.000000      1.000000      9.00000  ...   \n",
       "\n",
       "       srch_children_cnt  srch_rm_cnt  srch_destination_id  \\\n",
       "count       10000.000000  10000.00000         10000.000000   \n",
       "mean            0.349100      1.12780         14807.539200   \n",
       "std             0.761241      0.55308         11454.009352   \n",
       "min             0.000000      0.00000            11.000000   \n",
       "25%             0.000000      1.00000          8268.000000   \n",
       "50%             0.000000      1.00000         10970.500000   \n",
       "75%             0.000000      1.00000         18714.000000   \n",
       "max             9.000000      8.00000         65035.000000   \n",
       "\n",
       "       srch_destination_type_id    is_booking           cnt  hotel_continent  \\\n",
       "count              10000.000000  10000.000000  10000.000000     10000.000000   \n",
       "mean                   2.641100      0.077700      1.456100         3.149200   \n",
       "std                    2.203446      0.267712      1.167565         1.539213   \n",
       "min                    1.000000      0.000000      1.000000         0.000000   \n",
       "25%                    1.000000      0.000000      1.000000         2.000000   \n",
       "50%                    1.000000      0.000000      1.000000         2.000000   \n",
       "75%                    5.000000      0.000000      1.000000         4.000000   \n",
       "max                    8.000000      1.000000     23.000000         6.000000   \n",
       "\n",
       "       hotel_country  hotel_market  hotel_cluster  \n",
       "count   10000.000000  10000.000000   10000.000000  \n",
       "mean       80.198000    575.825700      49.120100  \n",
       "std        55.267289    494.452768      28.705492  \n",
       "min         0.000000      0.000000       0.000000  \n",
       "25%        50.000000    142.000000      25.000000  \n",
       "50%        50.000000    544.000000      48.000000  \n",
       "75%       105.000000    700.000000      73.000000  \n",
       "max       208.000000   2103.000000      99.000000  \n",
       "\n",
       "[8 rows x 21 columns]"
      ]
     },
     "execution_count": 111,
     "metadata": {},
     "output_type": "execute_result"
    }
   ],
   "source": [
    "train.describe()"
   ]
  },
  {
   "cell_type": "code",
   "execution_count": 112,
   "metadata": {
    "id": "4kxuKNE8GFoT",
    "outputId": "767a2495-a08f-4121-8e15-354a27228180"
   },
   "outputs": [
    {
     "data": {
      "text/plain": [
       "date_time                       0\n",
       "site_name                       0\n",
       "posa_continent                  0\n",
       "user_location_country           0\n",
       "user_location_region            0\n",
       "user_location_city              0\n",
       "orig_destination_distance    3729\n",
       "user_id                         0\n",
       "is_mobile                       0\n",
       "is_package                      0\n",
       "channel                         0\n",
       "srch_ci                         7\n",
       "srch_co                         7\n",
       "srch_adults_cnt                 0\n",
       "srch_children_cnt               0\n",
       "srch_rm_cnt                     0\n",
       "srch_destination_id             0\n",
       "srch_destination_type_id        0\n",
       "is_booking                      0\n",
       "cnt                             0\n",
       "hotel_continent                 0\n",
       "hotel_country                   0\n",
       "hotel_market                    0\n",
       "hotel_cluster                   0\n",
       "dtype: int64"
      ]
     },
     "execution_count": 112,
     "metadata": {},
     "output_type": "execute_result"
    }
   ],
   "source": [
    "#checking for empty information\n",
    "train.isnull().sum()"
   ]
  },
  {
   "cell_type": "code",
   "execution_count": 113,
   "metadata": {},
   "outputs": [
    {
     "data": {
      "text/plain": [
       "<AxesSubplot:>"
      ]
     },
     "execution_count": 113,
     "metadata": {},
     "output_type": "execute_result"
    },
    {
     "data": {
      "image/png": "[encoded data removed]",
      "text/plain": [
       "<Figure size 432x288 with 1 Axes>"
      ]
     },
     "metadata": {
      "needs_background": "light"
     },
     "output_type": "display_data"
    }
   ],
   "source": [
    "#visual heatmap of missing cells in train dataset\n",
    "sns.heatmap(train.isnull(), cbar=False)"
   ]
  },
  {
   "cell_type": "code",
   "execution_count": 114,
   "metadata": {
    "id": "ndocJ_vmGFoT",
    "outputId": "1ec7388b-a42f-4df2-9228-f5181c4c0fba"
   },
   "outputs": [
    {
     "data": {
      "text/html": [
       "<div>\n",
       "<style scoped>\n",
       "    .dataframe tbody tr th:only-of-type {\n",
       "        vertical-align: middle;\n",
       "    }\n",
       "\n",
       "    .dataframe tbody tr th {\n",
       "        vertical-align: top;\n",
       "    }\n",
       "\n",
       "    .dataframe thead th {\n",
       "        text-align: right;\n",
       "    }\n",
       "</style>\n",
       "<table border=\"1\" class=\"dataframe\">\n",
       "  <thead>\n",
       "    <tr style=\"text-align: right;\">\n",
       "      <th></th>\n",
       "      <th>Total</th>\n",
       "      <th>Percent</th>\n",
       "    </tr>\n",
       "  </thead>\n",
       "  <tbody>\n",
       "    <tr>\n",
       "      <th>orig_destination_distance</th>\n",
       "      <td>3729</td>\n",
       "      <td>0.3729</td>\n",
       "    </tr>\n",
       "    <tr>\n",
       "      <th>srch_ci</th>\n",
       "      <td>7</td>\n",
       "      <td>0.0007</td>\n",
       "    </tr>\n",
       "    <tr>\n",
       "      <th>srch_co</th>\n",
       "      <td>7</td>\n",
       "      <td>0.0007</td>\n",
       "    </tr>\n",
       "    <tr>\n",
       "      <th>channel</th>\n",
       "      <td>0</td>\n",
       "      <td>0.0000</td>\n",
       "    </tr>\n",
       "    <tr>\n",
       "      <th>site_name</th>\n",
       "      <td>0</td>\n",
       "      <td>0.0000</td>\n",
       "    </tr>\n",
       "    <tr>\n",
       "      <th>posa_continent</th>\n",
       "      <td>0</td>\n",
       "      <td>0.0000</td>\n",
       "    </tr>\n",
       "    <tr>\n",
       "      <th>user_location_country</th>\n",
       "      <td>0</td>\n",
       "      <td>0.0000</td>\n",
       "    </tr>\n",
       "    <tr>\n",
       "      <th>user_location_region</th>\n",
       "      <td>0</td>\n",
       "      <td>0.0000</td>\n",
       "    </tr>\n",
       "    <tr>\n",
       "      <th>user_location_city</th>\n",
       "      <td>0</td>\n",
       "      <td>0.0000</td>\n",
       "    </tr>\n",
       "    <tr>\n",
       "      <th>user_id</th>\n",
       "      <td>0</td>\n",
       "      <td>0.0000</td>\n",
       "    </tr>\n",
       "    <tr>\n",
       "      <th>is_mobile</th>\n",
       "      <td>0</td>\n",
       "      <td>0.0000</td>\n",
       "    </tr>\n",
       "    <tr>\n",
       "      <th>is_package</th>\n",
       "      <td>0</td>\n",
       "      <td>0.0000</td>\n",
       "    </tr>\n",
       "    <tr>\n",
       "      <th>hotel_cluster</th>\n",
       "      <td>0</td>\n",
       "      <td>0.0000</td>\n",
       "    </tr>\n",
       "    <tr>\n",
       "      <th>hotel_market</th>\n",
       "      <td>0</td>\n",
       "      <td>0.0000</td>\n",
       "    </tr>\n",
       "    <tr>\n",
       "      <th>srch_adults_cnt</th>\n",
       "      <td>0</td>\n",
       "      <td>0.0000</td>\n",
       "    </tr>\n",
       "    <tr>\n",
       "      <th>srch_children_cnt</th>\n",
       "      <td>0</td>\n",
       "      <td>0.0000</td>\n",
       "    </tr>\n",
       "    <tr>\n",
       "      <th>srch_rm_cnt</th>\n",
       "      <td>0</td>\n",
       "      <td>0.0000</td>\n",
       "    </tr>\n",
       "    <tr>\n",
       "      <th>srch_destination_id</th>\n",
       "      <td>0</td>\n",
       "      <td>0.0000</td>\n",
       "    </tr>\n",
       "    <tr>\n",
       "      <th>srch_destination_type_id</th>\n",
       "      <td>0</td>\n",
       "      <td>0.0000</td>\n",
       "    </tr>\n",
       "    <tr>\n",
       "      <th>is_booking</th>\n",
       "      <td>0</td>\n",
       "      <td>0.0000</td>\n",
       "    </tr>\n",
       "  </tbody>\n",
       "</table>\n",
       "</div>"
      ],
      "text/plain": [
       "                           Total  Percent\n",
       "orig_destination_distance   3729   0.3729\n",
       "srch_ci                        7   0.0007\n",
       "srch_co                        7   0.0007\n",
       "channel                        0   0.0000\n",
       "site_name                      0   0.0000\n",
       "posa_continent                 0   0.0000\n",
       "user_location_country          0   0.0000\n",
       "user_location_region           0   0.0000\n",
       "user_location_city             0   0.0000\n",
       "user_id                        0   0.0000\n",
       "is_mobile                      0   0.0000\n",
       "is_package                     0   0.0000\n",
       "hotel_cluster                  0   0.0000\n",
       "hotel_market                   0   0.0000\n",
       "srch_adults_cnt                0   0.0000\n",
       "srch_children_cnt              0   0.0000\n",
       "srch_rm_cnt                    0   0.0000\n",
       "srch_destination_id            0   0.0000\n",
       "srch_destination_type_id       0   0.0000\n",
       "is_booking                     0   0.0000"
      ]
     },
     "execution_count": 114,
     "metadata": {},
     "output_type": "execute_result"
    }
   ],
   "source": [
    "#constructing a table with % of missing cells to see how relevant they are.\n",
    "total=train.isnull().sum().sort_values(ascending=False)\n",
    "percent=(train.isnull().sum()/train['hotel_cluster'].count()).sort_values(ascending=False)\n",
    "missing_data=pd.concat([total, percent], axis=1, keys=['Total', 'Percent'])\n",
    "missing_data.head(20)"
   ]
  },
  {
   "cell_type": "code",
   "execution_count": 115,
   "metadata": {
    "id": "HTP4euXxGFoU",
    "outputId": "1a2c8aa3-39a7-473a-e703-2b77b4166a2b"
   },
   "outputs": [
    {
     "data": {
      "text/html": [
       "<div>\n",
       "<style scoped>\n",
       "    .dataframe tbody tr th:only-of-type {\n",
       "        vertical-align: middle;\n",
       "    }\n",
       "\n",
       "    .dataframe tbody tr th {\n",
       "        vertical-align: top;\n",
       "    }\n",
       "\n",
       "    .dataframe thead th {\n",
       "        text-align: right;\n",
       "    }\n",
       "</style>\n",
       "<table border=\"1\" class=\"dataframe\">\n",
       "  <thead>\n",
       "    <tr style=\"text-align: right;\">\n",
       "      <th></th>\n",
       "      <th>Total</th>\n",
       "      <th>Percent</th>\n",
       "    </tr>\n",
       "  </thead>\n",
       "  <tbody>\n",
       "    <tr>\n",
       "      <th>orig_destination_distance</th>\n",
       "      <td>4107.0</td>\n",
       "      <td>0.3729</td>\n",
       "    </tr>\n",
       "    <tr>\n",
       "      <th>hotel_market</th>\n",
       "      <td>0.0</td>\n",
       "      <td>0.0000</td>\n",
       "    </tr>\n",
       "    <tr>\n",
       "      <th>hotel_country</th>\n",
       "      <td>0.0</td>\n",
       "      <td>0.0000</td>\n",
       "    </tr>\n",
       "    <tr>\n",
       "      <th>date_time</th>\n",
       "      <td>0.0</td>\n",
       "      <td>0.0000</td>\n",
       "    </tr>\n",
       "    <tr>\n",
       "      <th>site_name</th>\n",
       "      <td>0.0</td>\n",
       "      <td>0.0000</td>\n",
       "    </tr>\n",
       "    <tr>\n",
       "      <th>posa_continent</th>\n",
       "      <td>0.0</td>\n",
       "      <td>0.0000</td>\n",
       "    </tr>\n",
       "    <tr>\n",
       "      <th>user_location_country</th>\n",
       "      <td>0.0</td>\n",
       "      <td>0.0000</td>\n",
       "    </tr>\n",
       "    <tr>\n",
       "      <th>user_location_region</th>\n",
       "      <td>0.0</td>\n",
       "      <td>0.0000</td>\n",
       "    </tr>\n",
       "    <tr>\n",
       "      <th>user_location_city</th>\n",
       "      <td>0.0</td>\n",
       "      <td>0.0000</td>\n",
       "    </tr>\n",
       "    <tr>\n",
       "      <th>user_id</th>\n",
       "      <td>0.0</td>\n",
       "      <td>0.0000</td>\n",
       "    </tr>\n",
       "    <tr>\n",
       "      <th>is_mobile</th>\n",
       "      <td>0.0</td>\n",
       "      <td>0.0000</td>\n",
       "    </tr>\n",
       "    <tr>\n",
       "      <th>is_package</th>\n",
       "      <td>0.0</td>\n",
       "      <td>0.0000</td>\n",
       "    </tr>\n",
       "    <tr>\n",
       "      <th>channel</th>\n",
       "      <td>0.0</td>\n",
       "      <td>0.0000</td>\n",
       "    </tr>\n",
       "    <tr>\n",
       "      <th>srch_ci</th>\n",
       "      <td>0.0</td>\n",
       "      <td>0.0007</td>\n",
       "    </tr>\n",
       "    <tr>\n",
       "      <th>srch_co</th>\n",
       "      <td>0.0</td>\n",
       "      <td>0.0007</td>\n",
       "    </tr>\n",
       "    <tr>\n",
       "      <th>srch_adults_cnt</th>\n",
       "      <td>0.0</td>\n",
       "      <td>0.0000</td>\n",
       "    </tr>\n",
       "    <tr>\n",
       "      <th>srch_children_cnt</th>\n",
       "      <td>0.0</td>\n",
       "      <td>0.0000</td>\n",
       "    </tr>\n",
       "    <tr>\n",
       "      <th>srch_rm_cnt</th>\n",
       "      <td>0.0</td>\n",
       "      <td>0.0000</td>\n",
       "    </tr>\n",
       "    <tr>\n",
       "      <th>srch_destination_id</th>\n",
       "      <td>0.0</td>\n",
       "      <td>0.0000</td>\n",
       "    </tr>\n",
       "    <tr>\n",
       "      <th>srch_destination_type_id</th>\n",
       "      <td>0.0</td>\n",
       "      <td>0.0000</td>\n",
       "    </tr>\n",
       "  </tbody>\n",
       "</table>\n",
       "</div>"
      ],
      "text/plain": [
       "                            Total  Percent\n",
       "orig_destination_distance  4107.0   0.3729\n",
       "hotel_market                  0.0   0.0000\n",
       "hotel_country                 0.0   0.0000\n",
       "date_time                     0.0   0.0000\n",
       "site_name                     0.0   0.0000\n",
       "posa_continent                0.0   0.0000\n",
       "user_location_country         0.0   0.0000\n",
       "user_location_region          0.0   0.0000\n",
       "user_location_city            0.0   0.0000\n",
       "user_id                       0.0   0.0000\n",
       "is_mobile                     0.0   0.0000\n",
       "is_package                    0.0   0.0000\n",
       "channel                       0.0   0.0000\n",
       "srch_ci                       0.0   0.0007\n",
       "srch_co                       0.0   0.0007\n",
       "srch_adults_cnt               0.0   0.0000\n",
       "srch_children_cnt             0.0   0.0000\n",
       "srch_rm_cnt                   0.0   0.0000\n",
       "srch_destination_id           0.0   0.0000\n",
       "srch_destination_type_id      0.0   0.0000"
      ]
     },
     "execution_count": 115,
     "metadata": {},
     "output_type": "execute_result"
    }
   ],
   "source": [
    "total=test.isnull().sum().sort_values(ascending=False)\n",
    "percent=(train.isnull().sum()/train['hotel_cluster'].count()).sort_values(ascending=False)\n",
    "missing_data=pd.concat([total, percent], axis=1, keys=['Total', 'Percent'], sort=False)\n",
    "missing_data.head(20)"
   ]
  },
  {
   "cell_type": "code",
   "execution_count": 116,
   "metadata": {
    "id": "VIyE3NdbGFoU"
   },
   "outputs": [],
   "source": [
    "#remove the missing values & impute values for orig_destination_distance\n",
    "train['orig_destination_distance'].fillna(train['orig_destination_distance'].mean(), inplace=True)\n",
    "test['orig_destination_distance'].fillna(test['orig_destination_distance'].mean(), inplace=True)"
   ]
  },
  {
   "cell_type": "markdown",
   "metadata": {},
   "source": [
    "**Comments**\n",
    "- I used mean to preserve the original mean and to be and to avoid changing the distribution, as I lack necessary information to correctly input the value. In a business context this will imply getting back to the client to understand why there is so much missing values. Usually, analysts plug in missing values using mean or median as a quick solution, but this has consequences that we can't ignore. It's just an easily implemented approach. Model-based imputations are superior and less biased than this solution. Nevertheless, I'll leave it to a further analysis to improve my model. Again, I would get back to the Client to figure it out."
   ]
  },
  {
   "cell_type": "code",
   "execution_count": 117,
   "metadata": {
    "id": "5onUFP4kGFoV",
    "outputId": "2977fb37-d1a1-4e77-c603-d27a9e4439d0"
   },
   "outputs": [
    {
     "data": {
      "text/plain": [
       "date_time                    0\n",
       "site_name                    0\n",
       "posa_continent               0\n",
       "user_location_country        0\n",
       "user_location_region         0\n",
       "user_location_city           0\n",
       "orig_destination_distance    0\n",
       "user_id                      0\n",
       "is_mobile                    0\n",
       "is_package                   0\n",
       "channel                      0\n",
       "srch_ci                      7\n",
       "srch_co                      7\n",
       "srch_adults_cnt              0\n",
       "srch_children_cnt            0\n",
       "srch_rm_cnt                  0\n",
       "srch_destination_id          0\n",
       "srch_destination_type_id     0\n",
       "is_booking                   0\n",
       "cnt                          0\n",
       "hotel_continent              0\n",
       "hotel_country                0\n",
       "hotel_market                 0\n",
       "hotel_cluster                0\n",
       "dtype: int64"
      ]
     },
     "execution_count": 117,
     "metadata": {},
     "output_type": "execute_result"
    }
   ],
   "source": [
    "train.isnull().sum()"
   ]
  },
  {
   "cell_type": "code",
   "execution_count": 118,
   "metadata": {
    "id": "6nMgjZeHGFoV"
   },
   "outputs": [],
   "source": [
    "train.dropna(inplace=True)\n",
    "test.dropna(inplace=True)"
   ]
  },
  {
   "cell_type": "code",
   "execution_count": 119,
   "metadata": {
    "id": "lM5N2yIaSL6q",
    "outputId": "fb942649-9ea0-4e28-8dfe-397d7d98c03a"
   },
   "outputs": [
    {
     "data": {
      "text/plain": [
       "(9993, 24)"
      ]
     },
     "execution_count": 119,
     "metadata": {},
     "output_type": "execute_result"
    }
   ],
   "source": [
    "train.shape"
   ]
  },
  {
   "cell_type": "code",
   "execution_count": 120,
   "metadata": {
    "id": "2vrc_QhaSL6q",
    "outputId": "c6c708fe-932c-4c53-c5fe-7585c9441ddd"
   },
   "outputs": [
    {
     "data": {
      "text/plain": [
       "(10000, 22)"
      ]
     },
     "execution_count": 120,
     "metadata": {},
     "output_type": "execute_result"
    }
   ],
   "source": [
    "test.shape"
   ]
  },
  {
   "cell_type": "markdown",
   "metadata": {
    "id": "KcXnZt-RGFoV"
   },
   "source": [
    "### 3.1 Correlation"
   ]
  },
  {
   "cell_type": "code",
   "execution_count": 121,
   "metadata": {
    "id": "RUQ2H1IUGFoW",
    "outputId": "ada149ec-5e81-46f7-cca1-4070fe979f18"
   },
   "outputs": [
    {
     "data": {
      "text/plain": [
       "<AxesSubplot:>"
      ]
     },
     "execution_count": 121,
     "metadata": {},
     "output_type": "execute_result"
    },
    {
     "data": {
      "image/png": "[encoded data removed]",
      "text/plain": [
       "<Figure size 1080x720 with 2 Axes>"
      ]
     },
     "metadata": {
      "needs_background": "light"
     },
     "output_type": "display_data"
    }
   ],
   "source": [
    "#visualizing through a heatmap to infer the correlation between different columns with each other and to check if there is any linear correlation between columns\n",
    "fig, ax = plt.subplots()\n",
    "fig.set_size_inches(15, 10)\n",
    "sns.heatmap(train.corr(),cmap='coolwarm',ax=ax,annot=True,linewidths=2)"
   ]
  },
  {
   "cell_type": "markdown",
   "metadata": {
    "id": "-GTMZZdjGFoW"
   },
   "source": [
    "**Comments**\n",
    "- There is no column linearly correlated with any other column in the dataset.\n",
    "- The strongest correlation is given by search destination type and search destination id which is quite obvious.\n",
    "- Hotel Country and Hotel Continent have the same correlation"
   ]
  },
  {
   "cell_type": "markdown",
   "metadata": {
    "id": "cQwl8HyLGFoW"
   },
   "source": [
    "### 3.2 Bivariate analysis"
   ]
  },
  {
   "cell_type": "code",
   "execution_count": 122,
   "metadata": {
    "id": "AYEbXGPBGFoX",
    "outputId": "eac9f472-6412-4dc3-fdb5-b200b6fb2e86"
   },
   "outputs": [
    {
     "data": {
      "text/plain": [
       "<AxesSubplot:xlabel='is_mobile', ylabel='count'>"
      ]
     },
     "execution_count": 122,
     "metadata": {},
     "output_type": "execute_result"
    },
    {
     "data": {
      "image/png": "[encoded data removed]",
      "text/plain": [
       "<Figure size 936x576 with 1 Axes>"
      ]
     },
     "metadata": {
      "needs_background": "light"
     },
     "output_type": "display_data"
    }
   ],
   "source": [
    "#understanding how are bookings places (i.e app or website)\n",
    "fig, ax = plt.subplots()\n",
    "fig.set_size_inches(13, 8)\n",
    "sns.countplot(x='is_mobile',data=train, order=[0,1],ax=ax)"
   ]
  },
  {
   "cell_type": "markdown",
   "metadata": {
    "id": "q4SlXGs-GFoX"
   },
   "source": [
    "**Comments**\n",
    "- It looks like Expedia app is not used as often as it's website. This could be related to cultural things (for example if adult people less related with technology is the typical customer), or maybe it could be related with the fact that when you plan a trip, you rather use a spreadsheet with multiple information and not only looking for a destination. In my personal case, when I plan a mid-long trip or vacations, I like to use my laptop, look in multiple websites at the same time, assemble a spreadsheet with a lot of information, etc.\n",
    "- In either way, in a business consultancy situation we should get back to ou Client and gather more information or talk with the product manager to understand a little bit more about the customer journey."
   ]
  },
  {
   "cell_type": "code",
   "execution_count": 123,
   "metadata": {
    "id": "TJ7zspgwGFoY",
    "outputId": "6c3ce949-9d6d-4d28-9917-15c4d949aa2e"
   },
   "outputs": [
    {
     "data": {
      "text/plain": [
       "<AxesSubplot:xlabel='is_package', ylabel='count'>"
      ]
     },
     "execution_count": 123,
     "metadata": {},
     "output_type": "execute_result"
    },
    {
     "data": {
      "image/png": "[encoded data removed]",
      "text/plain": [
       "<Figure size 936x576 with 1 Axes>"
      ]
     },
     "metadata": {
      "needs_background": "light"
     },
     "output_type": "display_data"
    }
   ],
   "source": [
    "#frequency of bookings as a package (opposed to as a single travel)\n",
    "fig, ax = plt.subplots()\n",
    "fig.set_size_inches(13, 8)\n",
    "sns.countplot(x='is_package',data=train, order=[0,1], ax=ax)"
   ]
  },
  {
   "cell_type": "markdown",
   "metadata": {
    "id": "PW_orNj1GFoY"
   },
   "source": [
    "**Comments**\n",
    "- The number of customers booking their hotels with total package is visible less. Again, not knowing things related to our clients (for example the customer journey) and not having the possibility to discuss further with them, one could interpret  it as a pricing problem (packages are too expensive maybe?), an availability problem (less range of hotels) maybe the packages are not flexible or appealing enough. Once again, this would require to get back to our Client."
   ]
  },
  {
   "cell_type": "code",
   "execution_count": 124,
   "metadata": {
    "id": "wY41Fp8AGFoZ",
    "outputId": "9c809edf-a062-4d4f-ba2f-0f183308a2dc"
   },
   "outputs": [
    {
     "name": "stderr",
     "output_type": "stream",
     "text": [
      "C:\\Users\\sebastian.spena\\Anaconda3\\lib\\site-packages\\seaborn\\_decorators.py:36: FutureWarning: Pass the following variable as a keyword arg: x. From version 0.12, the only valid positional argument will be `data`, and passing other arguments without an explicit keyword will result in an error or misinterpretation.\n",
      "  warnings.warn(\n"
     ]
    },
    {
     "data": {
      "text/plain": [
       "<AxesSubplot:xlabel='posa_continent', ylabel='count'>"
      ]
     },
     "execution_count": 124,
     "metadata": {},
     "output_type": "execute_result"
    },
    {
     "data": {
      "image/png": "[encoded data removed]",
      "text/plain": [
       "<Figure size 936x576 with 1 Axes>"
      ]
     },
     "metadata": {
      "needs_background": "light"
     },
     "output_type": "display_data"
    }
   ],
   "source": [
    "#frequency of continent\n",
    "fig, ax = plt.subplots()\n",
    "fig.set_size_inches(13, 8)\n",
    "sns.countplot('posa_continent', data=train,order=[0,1,2,3,4],ax=ax)"
   ]
  },
  {
   "cell_type": "markdown",
   "metadata": {
    "id": "vX9lwFlLGFoZ"
   },
   "source": [
    "**Comments**\n",
    "- We have no information regarding the continents names, so no more than especulations.\n",
    "- Reasonably enough one could say that there is a business opportunity to grow in contienen o and 4.\n",
    "- We could also say continent 3 has a better economic capacity or spending power."
   ]
  },
  {
   "cell_type": "code",
   "execution_count": 125,
   "metadata": {
    "id": "VKgXN06MGFoa",
    "outputId": "4340459a-2d93-43c0-f349-f18626d82deb"
   },
   "outputs": [
    {
     "name": "stderr",
     "output_type": "stream",
     "text": [
      "C:\\Users\\sebastian.spena\\Anaconda3\\lib\\site-packages\\seaborn\\_decorators.py:36: FutureWarning: Pass the following variable as a keyword arg: x. From version 0.12, the only valid positional argument will be `data`, and passing other arguments without an explicit keyword will result in an error or misinterpretation.\n",
      "  warnings.warn(\n"
     ]
    },
    {
     "data": {
      "text/plain": [
       "<AxesSubplot:xlabel='hotel_continent', ylabel='count'>"
      ]
     },
     "execution_count": 125,
     "metadata": {},
     "output_type": "execute_result"
    },
    {
     "data": {
      "image/png": "[encoded data removed]",
      "text/plain": [
       "<Figure size 936x576 with 1 Axes>"
      ]
     },
     "metadata": {
      "needs_background": "light"
     },
     "output_type": "display_data"
    }
   ],
   "source": [
    "#continents and number of hotels\n",
    "fig, ax = plt.subplots()\n",
    "fig.set_size_inches(13, 8)\n",
    "sns.countplot('hotel_continent', data=train,order=[0,2,3,4,5,6],ax=ax)"
   ]
  },
  {
   "cell_type": "markdown",
   "metadata": {},
   "source": [
    "**Comments**\n",
    "- This could be interesting. There is 6 continents where you have hotels to book, but only 5 where expedia is making bookings.\n",
    "- Also there are no hotels in continent 1 and 2 other continents with no bookings but with hotels."
   ]
  },
  {
   "cell_type": "code",
   "execution_count": 126,
   "metadata": {
    "id": "aAWpK6qVGFoc"
   },
   "outputs": [],
   "source": [
    "#creating a subset for only bookings\n",
    "bookings=train[train[\"is_booking\"] == 1]"
   ]
  },
  {
   "cell_type": "code",
   "execution_count": 127,
   "metadata": {
    "id": "Wpv9xvuxGFoc",
    "outputId": "607c2324-2875-4c7f-94ee-e825a6ac74e3"
   },
   "outputs": [
    {
     "name": "stderr",
     "output_type": "stream",
     "text": [
      "C:\\Users\\sebastian.spena\\Anaconda3\\lib\\site-packages\\seaborn\\_decorators.py:36: FutureWarning: Pass the following variable as a keyword arg: x. From version 0.12, the only valid positional argument will be `data`, and passing other arguments without an explicit keyword will result in an error or misinterpretation.\n",
      "  warnings.warn(\n"
     ]
    },
    {
     "data": {
      "text/plain": [
       "<AxesSubplot:xlabel='user_location_country', ylabel='count'>"
      ]
     },
     "execution_count": 127,
     "metadata": {},
     "output_type": "execute_result"
    },
    {
     "data": {
      "image/png": "[encoded data removed]",
      "text/plain": [
       "<Figure size 2160x576 with 1 Axes>"
      ]
     },
     "metadata": {
      "needs_background": "light"
     },
     "output_type": "display_data"
    }
   ],
   "source": [
    "#countries where the customer travel from\n",
    "fig, ax = plt.subplots()\n",
    "fig.set_size_inches(30,8)\n",
    "sns.countplot('user_location_country',data=bookings.sort_values(by=['user_location_country']))"
   ]
  },
  {
   "cell_type": "markdown",
   "metadata": {
    "id": "tEkHD8yCGFod"
   },
   "source": [
    "**Comments**\n",
    "- Country 66 is by far the most frequent country where people is traveling from. This could give us an insight about the population (China maybe?) or maybe about the purchasing power (US? China?) or perhaps about the situation regarding Expedia against competitors.\n",
    "- For that we would need to come back to our client and understand and maybe challenge this information with some benchmarks.\n",
    "- Could be perhaps that Expedia has a strong discount policy in that country?"
   ]
  },
  {
   "cell_type": "code",
   "execution_count": 128,
   "metadata": {
    "id": "nTZpZa8pGFod",
    "outputId": "e6404702-74a9-4e3e-d08c-b3a9a03f9da8"
   },
   "outputs": [
    {
     "name": "stderr",
     "output_type": "stream",
     "text": [
      "C:\\Users\\sebastian.spena\\Anaconda3\\lib\\site-packages\\seaborn\\_decorators.py:36: FutureWarning: Pass the following variable as a keyword arg: x. From version 0.12, the only valid positional argument will be `data`, and passing other arguments without an explicit keyword will result in an error or misinterpretation.\n",
      "  warnings.warn(\n"
     ]
    },
    {
     "data": {
      "text/plain": [
       "<AxesSubplot:xlabel='hotel_country', ylabel='count'>"
      ]
     },
     "execution_count": 128,
     "metadata": {},
     "output_type": "execute_result"
    },
    {
     "data": {
      "image/png": "[encoded data removed]",
      "text/plain": [
       "<Figure size 2520x720 with 1 Axes>"
      ]
     },
     "metadata": {
      "needs_background": "light"
     },
     "output_type": "display_data"
    }
   ],
   "source": [
    "#frequency of destinations\n",
    "fig, ax = plt.subplots()\n",
    "fig.set_size_inches(35,10)\n",
    "sns.countplot('hotel_country',data=bookings.sort_values(by=['hotel_country']))"
   ]
  },
  {
   "cell_type": "markdown",
   "metadata": {
    "id": "z_xZwWxiGFod"
   },
   "source": [
    "**Comments**\n",
    "- Interesting that country 50 is by far the most visited country for Expedia customers.\n",
    "- Maybe is a hot destination in that particular year, or maybe is because there is some bias in the train dataset."
   ]
  },
  {
   "cell_type": "code",
   "execution_count": 129,
   "metadata": {
    "id": "J7_4jUqkGFoe",
    "outputId": "092269a0-5db2-4c35-8015-c7f32cb1f726"
   },
   "outputs": [
    {
     "data": {
      "text/plain": [
       "<AxesSubplot:xlabel='posa_continent', ylabel='count'>"
      ]
     },
     "execution_count": 129,
     "metadata": {},
     "output_type": "execute_result"
    },
    {
     "data": {
      "image/png": "[encoded data removed]",
      "text/plain": [
       "<Figure size 936x576 with 1 Axes>"
      ]
     },
     "metadata": {
      "needs_background": "light"
     },
     "output_type": "display_data"
    }
   ],
   "source": [
    "#bivariate analysis of continent and mobile\n",
    "fig, ax = plt.subplots()\n",
    "fig.set_size_inches(13, 8)\n",
    "sns.countplot(x='posa_continent', hue='is_mobile', data = train)"
   ]
  },
  {
   "cell_type": "markdown",
   "metadata": {
    "id": "zdWTcqVNGFoe"
   },
   "source": [
    "**Comments**\n",
    "- It looks like continent 1 has a less percentage of people from mobile (app) than from desktop (website)\n",
    "- Maybe the UX and UI is not as good enough, or maybe we should recheck with other companies, to understand if it is an industry benchmark. Again, personally, I prefer website in my desktop for long, multisite trips than the app."
   ]
  },
  {
   "cell_type": "code",
   "execution_count": 130,
   "metadata": {
    "id": "C4Vd8s89GFog",
    "outputId": "f1b4e79f-aefb-4cf1-8015-c2f4c4ea08e1"
   },
   "outputs": [
    {
     "data": {
      "text/plain": [
       "<AxesSubplot:>"
      ]
     },
     "execution_count": 130,
     "metadata": {},
     "output_type": "execute_result"
    },
    {
     "data": {
      "image/png": "[encoded data removed]",
      "text/plain": [
       "<Figure size 1440x576 with 1 Axes>"
      ]
     },
     "metadata": {
      "needs_background": "light"
     },
     "output_type": "display_data"
    }
   ],
   "source": [
    "#frequency of hotel clusters\n",
    "bookings['hotel_cluster'].value_counts().plot(kind='bar',figsize=(20,8))"
   ]
  },
  {
   "cell_type": "markdown",
   "metadata": {
    "id": "KyJdyhKtGFog"
   },
   "source": [
    "**Comments**\n",
    "- Cluster 91 is the most frequent hotel."
   ]
  },
  {
   "cell_type": "code",
   "execution_count": 131,
   "metadata": {
    "id": "DZHLGs0QGFog",
    "outputId": "a4a84472-7720-4f8e-8057-24b616919072"
   },
   "outputs": [
    {
     "data": {
      "text/plain": [
       "<AxesSubplot:xlabel='channel', ylabel='count'>"
      ]
     },
     "execution_count": 131,
     "metadata": {},
     "output_type": "execute_result"
    },
    {
     "data": {
      "image/png": "[encoded data removed]",
      "text/plain": [
       "<Figure size 1440x576 with 1 Axes>"
      ]
     },
     "metadata": {
      "needs_background": "light"
     },
     "output_type": "display_data"
    }
   ],
   "source": [
    "#analyzing channels\n",
    "fig, ax = plt.subplots()\n",
    "fig.set_size_inches(20, 8)\n",
    "sns.countplot(x='channel', order=list(range(0,10)), data=train)"
   ]
  },
  {
   "cell_type": "markdown",
   "metadata": {
    "id": "yNQbznJZGFoh"
   },
   "source": [
    "**Comments**\n",
    "- Without any information regarding what number is each channel, or knowing more about the marketing strategy of the Company, is hard to interpret more than saying the obvious. Channel 9 is the most frequent. But how do we know if that has a strong alignment with the company business plan, or anything related to profitability. "
   ]
  },
  {
   "cell_type": "markdown",
   "metadata": {
    "id": "1GzhibdjGFoh"
   },
   "source": [
    "## 4. Feature Engineering and Feature Selection"
   ]
  },
  {
   "cell_type": "markdown",
   "metadata": {
    "id": "S27hLhlGGFoh"
   },
   "source": [
    "Feature engineering is the process of using domain knowledge to extract features (characteristics, properties, attributes) from the dataset.\n",
    "\n",
    "With the information that we have here, we could find out the duration of the trip by subtracting the date of check-in to check-out.\n",
    "\n",
    "We could set a rule (with more industry knowledge) to create a category of short/long trips. Here you could find that there is a significant difference between business trips, ocasional getaways, long trips, etc.\n",
    "\n",
    "Moreover, in hotel industry (and similar ones), is very useful to stratify your clients by month. That is, to manage your database through several ones splitted by month of origin. That could help you better understand your business and your customers, as it probably will not behave equally the ones that travel in winter vs summer, or in between. Sometimes, hotels have their own database breakdown. Like for example: \"december 15th to january 7th\", \"spring break\", etc."
   ]
  },
  {
   "cell_type": "code",
   "execution_count": 132,
   "metadata": {
    "id": "CoBhMIG7GFoi"
   },
   "outputs": [],
   "source": [
    "#function to brake the date and extract day, month and year\n",
    "def convert_date_into_days(df):\n",
    "    #datetime features\n",
    "    df['srch_ci']=pd.to_datetime(df['srch_ci'],infer_datetime_format = True,errors='coerce')\n",
    "    df['srch_co']=pd.to_datetime(df['srch_co'],infer_datetime_format = True,errors='coerce')\n",
    "    \n",
    "    df['stay_duration'] = (df['srch_co'] - df['srch_ci']).astype('timedelta64[D]')\n",
    "    df['no_of_prior_days_booking'] = (df['srch_ci'] - df['date_time']).astype('timedelta64[D]')\n",
    "    \n",
    "#     For hotel check-in\n",
    "#     Month, Year, Day\n",
    "    df['Cin_day'] = df[\"srch_ci\"].apply(lambda x: x.day)\n",
    "    df['Cin_month'] = df[\"srch_ci\"].apply(lambda x: x.month)\n",
    "    df['Cin_year'] = df[\"srch_ci\"].apply(lambda x: x.year)\n",
    "    return df"
   ]
  },
  {
   "cell_type": "code",
   "execution_count": 133,
   "metadata": {
    "id": "Dx8Wt7nQGFoi"
   },
   "outputs": [],
   "source": [
    "train = convert_date_into_days(train)"
   ]
  },
  {
   "cell_type": "code",
   "execution_count": 134,
   "metadata": {
    "id": "T1MDdGe4GFoi",
    "outputId": "69b7171a-68e9-4c9f-dfec-0b3695b90faf"
   },
   "outputs": [
    {
     "name": "stdout",
     "output_type": "stream",
     "text": [
      "<class 'pandas.core.frame.DataFrame'>\n",
      "Int64Index: 9993 entries, 0 to 9999\n",
      "Data columns (total 29 columns):\n",
      " #   Column                     Non-Null Count  Dtype         \n",
      "---  ------                     --------------  -----         \n",
      " 0   date_time                  9993 non-null   datetime64[ns]\n",
      " 1   site_name                  9993 non-null   int64         \n",
      " 2   posa_continent             9993 non-null   int64         \n",
      " 3   user_location_country      9993 non-null   int64         \n",
      " 4   user_location_region       9993 non-null   int64         \n",
      " 5   user_location_city         9993 non-null   int64         \n",
      " 6   orig_destination_distance  9993 non-null   float64       \n",
      " 7   user_id                    9993 non-null   int64         \n",
      " 8   is_mobile                  9993 non-null   int64         \n",
      " 9   is_package                 9993 non-null   int64         \n",
      " 10  channel                    9993 non-null   int64         \n",
      " 11  srch_ci                    9993 non-null   datetime64[ns]\n",
      " 12  srch_co                    9993 non-null   datetime64[ns]\n",
      " 13  srch_adults_cnt            9993 non-null   int64         \n",
      " 14  srch_children_cnt          9993 non-null   int64         \n",
      " 15  srch_rm_cnt                9993 non-null   int64         \n",
      " 16  srch_destination_id        9993 non-null   int64         \n",
      " 17  srch_destination_type_id   9993 non-null   int64         \n",
      " 18  is_booking                 9993 non-null   int64         \n",
      " 19  cnt                        9993 non-null   int64         \n",
      " 20  hotel_continent            9993 non-null   int64         \n",
      " 21  hotel_country              9993 non-null   int64         \n",
      " 22  hotel_market               9993 non-null   int64         \n",
      " 23  hotel_cluster              9993 non-null   int64         \n",
      " 24  stay_duration              9993 non-null   float64       \n",
      " 25  no_of_prior_days_booking   9993 non-null   float64       \n",
      " 26  Cin_day                    9993 non-null   int64         \n",
      " 27  Cin_month                  9993 non-null   int64         \n",
      " 28  Cin_year                   9993 non-null   int64         \n",
      "dtypes: datetime64[ns](3), float64(3), int64(23)\n",
      "memory usage: 2.6 MB\n"
     ]
    }
   ],
   "source": [
    "train.info()"
   ]
  },
  {
   "cell_type": "code",
   "execution_count": 135,
   "metadata": {
    "id": "BxpjDzUmGFoj",
    "outputId": "83152690-a484-4837-a059-2e8cc05d4466"
   },
   "outputs": [
    {
     "data": {
      "text/html": [
       "<div>\n",
       "<style scoped>\n",
       "    .dataframe tbody tr th:only-of-type {\n",
       "        vertical-align: middle;\n",
       "    }\n",
       "\n",
       "    .dataframe tbody tr th {\n",
       "        vertical-align: top;\n",
       "    }\n",
       "\n",
       "    .dataframe thead th {\n",
       "        text-align: right;\n",
       "    }\n",
       "</style>\n",
       "<table border=\"1\" class=\"dataframe\">\n",
       "  <thead>\n",
       "    <tr style=\"text-align: right;\">\n",
       "      <th></th>\n",
       "      <th>date_time</th>\n",
       "      <th>site_name</th>\n",
       "      <th>posa_continent</th>\n",
       "      <th>user_location_country</th>\n",
       "      <th>user_location_region</th>\n",
       "      <th>user_location_city</th>\n",
       "      <th>orig_destination_distance</th>\n",
       "      <th>user_id</th>\n",
       "      <th>is_mobile</th>\n",
       "      <th>is_package</th>\n",
       "      <th>...</th>\n",
       "      <th>cnt</th>\n",
       "      <th>hotel_continent</th>\n",
       "      <th>hotel_country</th>\n",
       "      <th>hotel_market</th>\n",
       "      <th>hotel_cluster</th>\n",
       "      <th>stay_duration</th>\n",
       "      <th>no_of_prior_days_booking</th>\n",
       "      <th>Cin_day</th>\n",
       "      <th>Cin_month</th>\n",
       "      <th>Cin_year</th>\n",
       "    </tr>\n",
       "  </thead>\n",
       "  <tbody>\n",
       "    <tr>\n",
       "      <th>0</th>\n",
       "      <td>2014-08-11 07:46:59</td>\n",
       "      <td>2</td>\n",
       "      <td>3</td>\n",
       "      <td>66</td>\n",
       "      <td>348</td>\n",
       "      <td>48862</td>\n",
       "      <td>2234.2641</td>\n",
       "      <td>12</td>\n",
       "      <td>0</td>\n",
       "      <td>1</td>\n",
       "      <td>...</td>\n",
       "      <td>3</td>\n",
       "      <td>2</td>\n",
       "      <td>50</td>\n",
       "      <td>628</td>\n",
       "      <td>1</td>\n",
       "      <td>4.0</td>\n",
       "      <td>15.0</td>\n",
       "      <td>27</td>\n",
       "      <td>8</td>\n",
       "      <td>2014</td>\n",
       "    </tr>\n",
       "    <tr>\n",
       "      <th>1</th>\n",
       "      <td>2014-08-11 08:22:12</td>\n",
       "      <td>2</td>\n",
       "      <td>3</td>\n",
       "      <td>66</td>\n",
       "      <td>348</td>\n",
       "      <td>48862</td>\n",
       "      <td>2234.2641</td>\n",
       "      <td>12</td>\n",
       "      <td>0</td>\n",
       "      <td>1</td>\n",
       "      <td>...</td>\n",
       "      <td>1</td>\n",
       "      <td>2</td>\n",
       "      <td>50</td>\n",
       "      <td>628</td>\n",
       "      <td>1</td>\n",
       "      <td>4.0</td>\n",
       "      <td>17.0</td>\n",
       "      <td>29</td>\n",
       "      <td>8</td>\n",
       "      <td>2014</td>\n",
       "    </tr>\n",
       "    <tr>\n",
       "      <th>2</th>\n",
       "      <td>2014-08-11 08:24:33</td>\n",
       "      <td>2</td>\n",
       "      <td>3</td>\n",
       "      <td>66</td>\n",
       "      <td>348</td>\n",
       "      <td>48862</td>\n",
       "      <td>2234.2641</td>\n",
       "      <td>12</td>\n",
       "      <td>0</td>\n",
       "      <td>0</td>\n",
       "      <td>...</td>\n",
       "      <td>1</td>\n",
       "      <td>2</td>\n",
       "      <td>50</td>\n",
       "      <td>628</td>\n",
       "      <td>1</td>\n",
       "      <td>4.0</td>\n",
       "      <td>17.0</td>\n",
       "      <td>29</td>\n",
       "      <td>8</td>\n",
       "      <td>2014</td>\n",
       "    </tr>\n",
       "    <tr>\n",
       "      <th>3</th>\n",
       "      <td>2014-08-09 18:05:16</td>\n",
       "      <td>2</td>\n",
       "      <td>3</td>\n",
       "      <td>66</td>\n",
       "      <td>442</td>\n",
       "      <td>35390</td>\n",
       "      <td>913.1932</td>\n",
       "      <td>93</td>\n",
       "      <td>0</td>\n",
       "      <td>0</td>\n",
       "      <td>...</td>\n",
       "      <td>1</td>\n",
       "      <td>2</td>\n",
       "      <td>50</td>\n",
       "      <td>1457</td>\n",
       "      <td>80</td>\n",
       "      <td>5.0</td>\n",
       "      <td>105.0</td>\n",
       "      <td>23</td>\n",
       "      <td>11</td>\n",
       "      <td>2014</td>\n",
       "    </tr>\n",
       "    <tr>\n",
       "      <th>4</th>\n",
       "      <td>2014-08-09 18:08:18</td>\n",
       "      <td>2</td>\n",
       "      <td>3</td>\n",
       "      <td>66</td>\n",
       "      <td>442</td>\n",
       "      <td>35390</td>\n",
       "      <td>913.6259</td>\n",
       "      <td>93</td>\n",
       "      <td>0</td>\n",
       "      <td>0</td>\n",
       "      <td>...</td>\n",
       "      <td>1</td>\n",
       "      <td>2</td>\n",
       "      <td>50</td>\n",
       "      <td>1457</td>\n",
       "      <td>21</td>\n",
       "      <td>5.0</td>\n",
       "      <td>105.0</td>\n",
       "      <td>23</td>\n",
       "      <td>11</td>\n",
       "      <td>2014</td>\n",
       "    </tr>\n",
       "  </tbody>\n",
       "</table>\n",
       "<p>5 rows × 29 columns</p>\n",
       "</div>"
      ],
      "text/plain": [
       "            date_time  site_name  posa_continent  user_location_country  \\\n",
       "0 2014-08-11 07:46:59          2               3                     66   \n",
       "1 2014-08-11 08:22:12          2               3                     66   \n",
       "2 2014-08-11 08:24:33          2               3                     66   \n",
       "3 2014-08-09 18:05:16          2               3                     66   \n",
       "4 2014-08-09 18:08:18          2               3                     66   \n",
       "\n",
       "   user_location_region  user_location_city  orig_destination_distance  \\\n",
       "0                   348               48862                  2234.2641   \n",
       "1                   348               48862                  2234.2641   \n",
       "2                   348               48862                  2234.2641   \n",
       "3                   442               35390                   913.1932   \n",
       "4                   442               35390                   913.6259   \n",
       "\n",
       "   user_id  is_mobile  is_package  ...  cnt hotel_continent hotel_country  \\\n",
       "0       12          0           1  ...    3               2            50   \n",
       "1       12          0           1  ...    1               2            50   \n",
       "2       12          0           0  ...    1               2            50   \n",
       "3       93          0           0  ...    1               2            50   \n",
       "4       93          0           0  ...    1               2            50   \n",
       "\n",
       "   hotel_market  hotel_cluster  stay_duration  no_of_prior_days_booking  \\\n",
       "0           628              1            4.0                      15.0   \n",
       "1           628              1            4.0                      17.0   \n",
       "2           628              1            4.0                      17.0   \n",
       "3          1457             80            5.0                     105.0   \n",
       "4          1457             21            5.0                     105.0   \n",
       "\n",
       "   Cin_day  Cin_month  Cin_year  \n",
       "0       27          8      2014  \n",
       "1       29          8      2014  \n",
       "2       29          8      2014  \n",
       "3       23         11      2014  \n",
       "4       23         11      2014  \n",
       "\n",
       "[5 rows x 29 columns]"
      ]
     },
     "execution_count": 135,
     "metadata": {},
     "output_type": "execute_result"
    }
   ],
   "source": [
    "train.head()"
   ]
  },
  {
   "cell_type": "code",
   "execution_count": 136,
   "metadata": {
    "id": "LoAne60qGFok",
    "outputId": "0921f9dd-7f24-437e-9823-4a8b1499b6c9"
   },
   "outputs": [
    {
     "name": "stderr",
     "output_type": "stream",
     "text": [
      "C:\\Users\\sebastian.spena\\Anaconda3\\lib\\site-packages\\seaborn\\_decorators.py:36: FutureWarning: Pass the following variable as a keyword arg: x. From version 0.12, the only valid positional argument will be `data`, and passing other arguments without an explicit keyword will result in an error or misinterpretation.\n",
      "  warnings.warn(\n"
     ]
    },
    {
     "data": {
      "text/plain": [
       "<AxesSubplot:xlabel='Cin_year', ylabel='count'>"
      ]
     },
     "execution_count": 136,
     "metadata": {},
     "output_type": "execute_result"
    },
    {
     "data": {
      "image/png": "[encoded data removed]",
      "text/plain": [
       "<Figure size 1080x576 with 1 Axes>"
      ]
     },
     "metadata": {
      "needs_background": "light"
     },
     "output_type": "display_data"
    }
   ],
   "source": [
    "#visualize the booking by year\n",
    "fig, ax = plt.subplots()\n",
    "fig.set_size_inches(15, 8)\n",
    "sns.countplot('Cin_year',data=train[train['is_booking']==1])"
   ]
  },
  {
   "cell_type": "markdown",
   "metadata": {
    "id": "4KZ4Y7dhGFok"
   },
   "source": [
    "**Comments**\n",
    "- This could show that the business was at a very good level in 2013, spiking up in 2014 and decreasing in 2015. However, it's important to understand that we have no information of how this dataset was sampled whatsoever. Moreover, I'm working with only a subset of rows from the original dataset. If we have no information about the sampling method used, we could be concluding based on biased datasets. So, we should be really careful about concluding significant effects regarding the population."
   ]
  },
  {
   "cell_type": "code",
   "execution_count": 137,
   "metadata": {
    "id": "2rXIErzcGFok",
    "outputId": "cab35d04-89bc-45ae-a28c-3188fd8cb2e6"
   },
   "outputs": [
    {
     "name": "stderr",
     "output_type": "stream",
     "text": [
      "C:\\Users\\sebastian.spena\\Anaconda3\\lib\\site-packages\\seaborn\\_decorators.py:36: FutureWarning: Pass the following variable as a keyword arg: x. From version 0.12, the only valid positional argument will be `data`, and passing other arguments without an explicit keyword will result in an error or misinterpretation.\n",
      "  warnings.warn(\n"
     ]
    },
    {
     "data": {
      "text/plain": [
       "<AxesSubplot:xlabel='Cin_month', ylabel='count'>"
      ]
     },
     "execution_count": 137,
     "metadata": {},
     "output_type": "execute_result"
    },
    {
     "data": {
      "image/png": "[encoded data removed]",
      "text/plain": [
       "<Figure size 1080x576 with 1 Axes>"
      ]
     },
     "metadata": {
      "needs_background": "light"
     },
     "output_type": "display_data"
    }
   ],
   "source": [
    "#visualizing seasonality\n",
    "fig, ax = plt.subplots()\n",
    "fig.set_size_inches(15, 8)\n",
    "sns.countplot('Cin_month',data=train[train['is_booking']==1],order=list(range(1,13)))"
   ]
  },
  {
   "cell_type": "code",
   "execution_count": 138,
   "metadata": {
    "id": "64iAIE5_GFol",
    "outputId": "5fae7fb8-4280-4dc5-b361-8d4c9f26c19e"
   },
   "outputs": [
    {
     "name": "stderr",
     "output_type": "stream",
     "text": [
      "C:\\Users\\sebastian.spena\\Anaconda3\\lib\\site-packages\\seaborn\\_decorators.py:36: FutureWarning: Pass the following variable as a keyword arg: x. From version 0.12, the only valid positional argument will be `data`, and passing other arguments without an explicit keyword will result in an error or misinterpretation.\n",
      "  warnings.warn(\n"
     ]
    },
    {
     "data": {
      "text/plain": [
       "<AxesSubplot:xlabel='Cin_day', ylabel='count'>"
      ]
     },
     "execution_count": 138,
     "metadata": {},
     "output_type": "execute_result"
    },
    {
     "data": {
      "image/png": "[encoded data removed]",
      "text/plain": [
       "<Figure size 1080x576 with 1 Axes>"
      ]
     },
     "metadata": {
      "needs_background": "light"
     },
     "output_type": "display_data"
    }
   ],
   "source": [
    "#visualizing bookings by day\n",
    "fig, ax = plt.subplots()\n",
    "fig.set_size_inches(15, 8)\n",
    "sns.countplot('Cin_day',data=train[train['is_booking']==1])"
   ]
  },
  {
   "cell_type": "code",
   "execution_count": 139,
   "metadata": {
    "id": "WENjuSuzGFom",
    "outputId": "2372cc06-459a-4a0a-d7f0-8973f4deb02c",
    "scrolled": false
   },
   "outputs": [
    {
     "data": {
      "image/png": "[encoded data removed]",
      "text/plain": [
       "<Figure size 1080x576 with 1 Axes>"
      ]
     },
     "metadata": {
      "needs_background": "light"
     },
     "output_type": "display_data"
    }
   ],
   "source": [
    "#business growth rate\n",
    "no_of_bookings=train['srch_ci'].apply(lambda x: (str(x)[:7]) if x == x else np.nan)\n",
    "date_bookings  = train.groupby(no_of_bookings)[\"is_booking\"].sum()\n",
    "ax1 = date_bookings.plot(legend=True,marker='o',title=\"Total Bookings\", figsize=(15,8)) \n",
    "ax1.set_xticks(range(len(date_bookings)))\n",
    "xlabels = ax1.set_xticklabels(date_bookings.index.tolist(), rotation=90)"
   ]
  },
  {
   "cell_type": "markdown",
   "metadata": {
    "id": "0xBgctBeGFom"
   },
   "source": [
    "**Comments**\n",
    "- Again there could be a problem with the sample. Regardless of that, it looks like there has been an issue in the business. Maybe an economic crisis, maybe it was due to competence problem. We should get back to our Client to understand more."
   ]
  },
  {
   "cell_type": "code",
   "execution_count": 140,
   "metadata": {
    "id": "md_ytQKNGFon",
    "outputId": "ebb121d7-7d6b-41b3-aa9a-a55d89b46889"
   },
   "outputs": [
    {
     "data": {
      "text/plain": [
       "<AxesSubplot:xlabel='stay_duration', ylabel='count'>"
      ]
     },
     "execution_count": 140,
     "metadata": {},
     "output_type": "execute_result"
    },
    {
     "data": {
      "image/png": "[encoded data removed]",
      "text/plain": [
       "<Figure size 1800x1080 with 1 Axes>"
      ]
     },
     "metadata": {
      "needs_background": "light"
     },
     "output_type": "display_data"
    }
   ],
   "source": [
    "#frequency of number of days of stay lenght\n",
    "fig, ax = plt.subplots()\n",
    "fig.set_size_inches(25, 15)\n",
    "sns.countplot(x=\"stay_duration\", data=train)"
   ]
  },
  {
   "cell_type": "code",
   "execution_count": 141,
   "metadata": {
    "id": "SQQzAfPZGFon",
    "outputId": "9bc26d5d-cb86-4a40-94b9-8eb18592838f",
    "scrolled": true
   },
   "outputs": [
    {
     "data": {
      "text/plain": [
       "62.0"
      ]
     },
     "execution_count": 141,
     "metadata": {},
     "output_type": "execute_result"
    }
   ],
   "source": [
    "train['stay_duration'].max()"
   ]
  },
  {
   "cell_type": "markdown",
   "metadata": {},
   "source": [
    "**Comments**\n",
    "- From this sample, it seems like the most frequent number of days that each customer stays is around 1 day. This could be for a number of reasons. We are not 100% sure the customer didn't stay more time, by booking 1 day only just to check if the hotel was ok enough to stay.\n",
    "- It also looks like there are some travelers who had stayed for 0 days. This is probably an error or a cancelation.\n",
    "- It could be also related to business trips.\n",
    "- It could relate to long trips where you jump from one city to another.\n",
    "- Anyway, we should get back to our client for further explanation and revalidation."
   ]
  },
  {
   "cell_type": "markdown",
   "metadata": {
    "id": "1Jw3lyuXGFoo"
   },
   "source": [
    "## 5. Data Cleaning and Model Preparation"
   ]
  },
  {
   "cell_type": "code",
   "execution_count": 142,
   "metadata": {
    "id": "TxpKOBxKGFot",
    "outputId": "79bb4bb6-cd9d-4c98-fade-32f42988426c"
   },
   "outputs": [
    {
     "data": {
      "text/plain": [
       "site_name                   -0.025890\n",
       "posa_continent               0.022119\n",
       "user_location_country       -0.000355\n",
       "user_location_region         0.031297\n",
       "user_location_city           0.008378\n",
       "orig_destination_distance    0.009625\n",
       "user_id                     -0.038709\n",
       "is_mobile                   -0.002336\n",
       "is_package                   0.068731\n",
       "channel                      0.010956\n",
       "srch_adults_cnt              0.003625\n",
       "srch_children_cnt            0.014931\n",
       "srch_rm_cnt                  0.001037\n",
       "srch_destination_id         -0.018810\n",
       "srch_destination_type_id    -0.059106\n",
       "is_booking                  -0.010280\n",
       "cnt                         -0.002052\n",
       "hotel_continent             -0.019825\n",
       "hotel_country               -0.044470\n",
       "hotel_market                 0.021687\n",
       "hotel_cluster                1.000000\n",
       "stay_duration                0.053497\n",
       "no_of_prior_days_booking     0.045974\n",
       "Cin_day                      0.003086\n",
       "Cin_month                    0.001190\n",
       "Cin_year                    -0.000936\n",
       "Name: hotel_cluster, dtype: float64"
      ]
     },
     "execution_count": 142,
     "metadata": {},
     "output_type": "execute_result"
    }
   ],
   "source": [
    "train.corr()[\"hotel_cluster\"]"
   ]
  },
  {
   "cell_type": "code",
   "execution_count": 143,
   "metadata": {
    "id": "_X6QPUZBGFou"
   },
   "outputs": [],
   "source": [
    "#removing unnecessary columns\n",
    "columns = ['date_time', 'srch_ci', 'srch_co']\n",
    "train.drop(columns=columns,axis=1,inplace=True)\n",
    "test.drop(columns=columns,axis=1,inplace=True)"
   ]
  },
  {
   "cell_type": "code",
   "execution_count": 144,
   "metadata": {
    "id": "sRn15PZdGFou",
    "outputId": "3733b149-e998-4f45-af41-678b8c43a7db"
   },
   "outputs": [
    {
     "name": "stdout",
     "output_type": "stream",
     "text": [
      "<class 'pandas.core.frame.DataFrame'>\n",
      "Int64Index: 9993 entries, 0 to 9999\n",
      "Data columns (total 26 columns):\n",
      " #   Column                     Non-Null Count  Dtype  \n",
      "---  ------                     --------------  -----  \n",
      " 0   site_name                  9993 non-null   int64  \n",
      " 1   posa_continent             9993 non-null   int64  \n",
      " 2   user_location_country      9993 non-null   int64  \n",
      " 3   user_location_region       9993 non-null   int64  \n",
      " 4   user_location_city         9993 non-null   int64  \n",
      " 5   orig_destination_distance  9993 non-null   float64\n",
      " 6   user_id                    9993 non-null   int64  \n",
      " 7   is_mobile                  9993 non-null   int64  \n",
      " 8   is_package                 9993 non-null   int64  \n",
      " 9   channel                    9993 non-null   int64  \n",
      " 10  srch_adults_cnt            9993 non-null   int64  \n",
      " 11  srch_children_cnt          9993 non-null   int64  \n",
      " 12  srch_rm_cnt                9993 non-null   int64  \n",
      " 13  srch_destination_id        9993 non-null   int64  \n",
      " 14  srch_destination_type_id   9993 non-null   int64  \n",
      " 15  is_booking                 9993 non-null   int64  \n",
      " 16  cnt                        9993 non-null   int64  \n",
      " 17  hotel_continent            9993 non-null   int64  \n",
      " 18  hotel_country              9993 non-null   int64  \n",
      " 19  hotel_market               9993 non-null   int64  \n",
      " 20  hotel_cluster              9993 non-null   int64  \n",
      " 21  stay_duration              9993 non-null   float64\n",
      " 22  no_of_prior_days_booking   9993 non-null   float64\n",
      " 23  Cin_day                    9993 non-null   int64  \n",
      " 24  Cin_month                  9993 non-null   int64  \n",
      " 25  Cin_year                   9993 non-null   int64  \n",
      "dtypes: float64(3), int64(23)\n",
      "memory usage: 2.4 MB\n"
     ]
    }
   ],
   "source": [
    "train.info()"
   ]
  },
  {
   "cell_type": "code",
   "execution_count": 145,
   "metadata": {
    "id": "qaw6XqwGGFov",
    "outputId": "37b968fa-f080-4123-c287-2d4509f242c3"
   },
   "outputs": [
    {
     "name": "stdout",
     "output_type": "stream",
     "text": [
      "<class 'pandas.core.frame.DataFrame'>\n",
      "Int64Index: 10000 entries, 0 to 9999\n",
      "Data columns (total 19 columns):\n",
      " #   Column                     Non-Null Count  Dtype  \n",
      "---  ------                     --------------  -----  \n",
      " 0   id                         10000 non-null  int64  \n",
      " 1   site_name                  10000 non-null  int64  \n",
      " 2   posa_continent             10000 non-null  int64  \n",
      " 3   user_location_country      10000 non-null  int64  \n",
      " 4   user_location_region       10000 non-null  int64  \n",
      " 5   user_location_city         10000 non-null  int64  \n",
      " 6   orig_destination_distance  10000 non-null  float64\n",
      " 7   user_id                    10000 non-null  int64  \n",
      " 8   is_mobile                  10000 non-null  int64  \n",
      " 9   is_package                 10000 non-null  int64  \n",
      " 10  channel                    10000 non-null  int64  \n",
      " 11  srch_adults_cnt            10000 non-null  int64  \n",
      " 12  srch_children_cnt          10000 non-null  int64  \n",
      " 13  srch_rm_cnt                10000 non-null  int64  \n",
      " 14  srch_destination_id        10000 non-null  int64  \n",
      " 15  srch_destination_type_id   10000 non-null  int64  \n",
      " 16  hotel_continent            10000 non-null  int64  \n",
      " 17  hotel_country              10000 non-null  int64  \n",
      " 18  hotel_market               10000 non-null  int64  \n",
      "dtypes: float64(1), int64(18)\n",
      "memory usage: 1.5 MB\n"
     ]
    }
   ],
   "source": [
    "test.info()"
   ]
  },
  {
   "cell_type": "code",
   "execution_count": 146,
   "metadata": {
    "id": "wt-cESJmGFov",
    "outputId": "8b74281e-bf93-4386-d457-bd666859a6da"
   },
   "outputs": [
    {
     "name": "stdout",
     "output_type": "stream",
     "text": [
      "<class 'pandas.core.frame.DataFrame'>\n",
      "Int64Index: 9993 entries, 0 to 9999\n",
      "Data columns (total 25 columns):\n",
      " #   Column                     Non-Null Count  Dtype  \n",
      "---  ------                     --------------  -----  \n",
      " 0   site_name                  9993 non-null   int64  \n",
      " 1   posa_continent             9993 non-null   int64  \n",
      " 2   user_location_country      9993 non-null   int64  \n",
      " 3   user_location_region       9993 non-null   int64  \n",
      " 4   user_location_city         9993 non-null   int64  \n",
      " 5   orig_destination_distance  9993 non-null   float64\n",
      " 6   user_id                    9993 non-null   int64  \n",
      " 7   is_mobile                  9993 non-null   int64  \n",
      " 8   is_package                 9993 non-null   int64  \n",
      " 9   channel                    9993 non-null   int64  \n",
      " 10  srch_adults_cnt            9993 non-null   int64  \n",
      " 11  srch_children_cnt          9993 non-null   int64  \n",
      " 12  srch_rm_cnt                9993 non-null   int64  \n",
      " 13  srch_destination_id        9993 non-null   int64  \n",
      " 14  srch_destination_type_id   9993 non-null   int64  \n",
      " 15  is_booking                 9993 non-null   int64  \n",
      " 16  cnt                        9993 non-null   int64  \n",
      " 17  hotel_continent            9993 non-null   int64  \n",
      " 18  hotel_country              9993 non-null   int64  \n",
      " 19  hotel_market               9993 non-null   int64  \n",
      " 20  stay_duration              9993 non-null   float64\n",
      " 21  no_of_prior_days_booking   9993 non-null   float64\n",
      " 22  Cin_day                    9993 non-null   int64  \n",
      " 23  Cin_month                  9993 non-null   int64  \n",
      " 24  Cin_year                   9993 non-null   int64  \n",
      "dtypes: float64(3), int64(22)\n",
      "memory usage: 2.3 MB\n"
     ]
    }
   ],
   "source": [
    "#creating the x and y dataframes\n",
    "Y = train['hotel_cluster']\n",
    "X = train.drop(['hotel_cluster'],axis=1)\n",
    "X.info()"
   ]
  },
  {
   "cell_type": "code",
   "execution_count": 147,
   "metadata": {
    "id": "dxRQtCL8GFov",
    "outputId": "baf94b05-3f65-470e-ec69-f752a47fbbe1"
   },
   "outputs": [
    {
     "name": "stdout",
     "output_type": "stream",
     "text": [
      "6995\n",
      "2998\n"
     ]
    }
   ],
   "source": [
    "#dividing the train dataset 70/30\n",
    "from sklearn.model_selection import train_test_split\n",
    "X_train, X_test, Y_train, Y_test = train_test_split(X, Y, test_size=0.3, random_state=1)\n",
    "print(len(X_train))\n",
    "print(len(X_test))"
   ]
  },
  {
   "cell_type": "code",
   "execution_count": 148,
   "metadata": {
    "id": "641qCAs4GFow",
    "outputId": "3144a7fe-90dd-4a01-f4ac-8a5ca5420e20"
   },
   "outputs": [
    {
     "data": {
      "text/plain": [
       "0.028352234823215475"
      ]
     },
     "execution_count": 148,
     "metadata": {},
     "output_type": "execute_result"
    }
   ],
   "source": [
    "#setting baseline accuracy\n",
    "from sklearn.metrics import accuracy_score\n",
    "test_rows = Y_test.shape[0]\n",
    "predicted_values = np.ones(test_rows) * 91\n",
    "accuracy_score(Y_test, predicted_values)"
   ]
  },
  {
   "cell_type": "code",
   "execution_count": 149,
   "metadata": {
    "id": "PbHO47MrSL7M",
    "outputId": "6e6ec78f-648e-45ee-cad3-5abcce95c490"
   },
   "outputs": [
    {
     "data": {
      "text/plain": [
       "2998"
      ]
     },
     "execution_count": 149,
     "metadata": {},
     "output_type": "execute_result"
    }
   ],
   "source": [
    "Y_test.shape[0]"
   ]
  },
  {
   "cell_type": "markdown",
   "metadata": {
    "id": "lopLoS4WGFow"
   },
   "source": [
    "## 6. Machine Learning Modeling and Hyperparameter Tuning"
   ]
  },
  {
   "cell_type": "markdown",
   "metadata": {},
   "source": [
    "### 6.1 Random Forests\n",
    "\n",
    "Random decision forests are an ensemble learning method for classification, regression and other tasks that operate by constructing a multitude of decision trees at training time and outputting the class that is the mode of the classes or mean/average prediction of the individual trees.\n",
    "\n",
    "When creating a machine learning model, we have to define model architecture. Most of the times it's necessary to experiment through- At first we don't know what is optimal, so we need to explore a range of possibilities. In a complex and real world cloud machine learning we would perform exploration and selection of the optimal model automatically. \n",
    "In this case and given the limitations, I have done so manually.\n",
    "\n",
    "Main issues adressed through manual hyperparameter tuning: \n",
    "- Maximum depth for the tree?\n",
    "- Number leaf nodes?\n",
    "- Information gain calculation: Gini or entropy?\n",
    "- How many trees should I include in my random forest?\n",
    "\n",
    "Eventually we should define a criteria to judge the model and a cross-validation method."
   ]
  },
  {
   "cell_type": "code",
   "execution_count": 150,
   "metadata": {
    "id": "2GzhikJVGFox"
   },
   "outputs": [
    {
     "name": "stdout",
     "output_type": "stream",
     "text": [
      "Train Accuracy: 89.62%\n",
      "Test Accuracy: 32.49%\n"
     ]
    }
   ],
   "source": [
    "from sklearn.ensemble import RandomForestClassifier\n",
    "from sklearn.metrics import accuracy_score\n",
    "\n",
    "#Instantiate\n",
    "rf = RandomForestClassifier(n_estimators=80)\n",
    "rf.fit(X_train, Y_train)\n",
    "\n",
    "#Prediction\n",
    "rf_train_prediction = rf.predict(X_train)\n",
    "rf_test_prediction = rf.predict(X_test)\n",
    "\n",
    "#Accuracy\n",
    "train_accuracy = accuracy_score(Y_train,rf_train_prediction)\n",
    "test_accuracy = accuracy_score(Y_test,rf_test_prediction)\n",
    "rf_accuracy = test_accuracy\n",
    "\n",
    "#Print\n",
    "print(\"Train Accuracy: %.2f%%\" % (train_accuracy * 100.0))\n",
    "print(\"Test Accuracy: %.2f%%\" % (test_accuracy * 100.0))"
   ]
  },
  {
   "cell_type": "markdown",
   "metadata": {
    "id": "dtyZTiNGGFox"
   },
   "source": [
    "**Comments**\n",
    "- It's clearer that the model is overfitting. Our model doesn’t generalize well from our training data to unseen data.\n",
    "- Main reason why this happens is because we have a modeling error that occurs when a function is too aligned to the train dataset. As a consequence, the model is useful only for the training observations, but performs very poorly in the test dataset.\n",
    "- Other reasonable explanation could be related to sampling. If we are working with noisy data, it could lead If the algorithm is too complex or too flexible, it can end up memorizing the noise instead of finding the pattern underlying."
   ]
  },
  {
   "cell_type": "code",
   "execution_count": 151,
   "metadata": {
    "id": "I-RsEYgXGFox"
   },
   "outputs": [
    {
     "data": {
      "text/plain": [
       "(9993, 26)"
      ]
     },
     "execution_count": 151,
     "metadata": {},
     "output_type": "execute_result"
    }
   ],
   "source": [
    "train.shape"
   ]
  },
  {
   "cell_type": "code",
   "execution_count": 152,
   "metadata": {
    "id": "HyUKDguuGFox"
   },
   "outputs": [],
   "source": [
    "#creating a subset\n",
    "train_subset = train.sample(700)"
   ]
  },
  {
   "cell_type": "code",
   "execution_count": 153,
   "metadata": {
    "id": "A570R8WhGFoy"
   },
   "outputs": [
    {
     "data": {
      "text/html": [
       "<div>\n",
       "<style scoped>\n",
       "    .dataframe tbody tr th:only-of-type {\n",
       "        vertical-align: middle;\n",
       "    }\n",
       "\n",
       "    .dataframe tbody tr th {\n",
       "        vertical-align: top;\n",
       "    }\n",
       "\n",
       "    .dataframe thead th {\n",
       "        text-align: right;\n",
       "    }\n",
       "</style>\n",
       "<table border=\"1\" class=\"dataframe\">\n",
       "  <thead>\n",
       "    <tr style=\"text-align: right;\">\n",
       "      <th></th>\n",
       "      <th>site_name</th>\n",
       "      <th>posa_continent</th>\n",
       "      <th>user_location_country</th>\n",
       "      <th>user_location_region</th>\n",
       "      <th>user_location_city</th>\n",
       "      <th>orig_destination_distance</th>\n",
       "      <th>user_id</th>\n",
       "      <th>is_mobile</th>\n",
       "      <th>is_package</th>\n",
       "      <th>channel</th>\n",
       "      <th>...</th>\n",
       "      <th>cnt</th>\n",
       "      <th>hotel_continent</th>\n",
       "      <th>hotel_country</th>\n",
       "      <th>hotel_market</th>\n",
       "      <th>hotel_cluster</th>\n",
       "      <th>stay_duration</th>\n",
       "      <th>no_of_prior_days_booking</th>\n",
       "      <th>Cin_day</th>\n",
       "      <th>Cin_month</th>\n",
       "      <th>Cin_year</th>\n",
       "    </tr>\n",
       "  </thead>\n",
       "  <tbody>\n",
       "    <tr>\n",
       "      <th>3951</th>\n",
       "      <td>2</td>\n",
       "      <td>3</td>\n",
       "      <td>66</td>\n",
       "      <td>220</td>\n",
       "      <td>43026</td>\n",
       "      <td>4703.589000</td>\n",
       "      <td>23234</td>\n",
       "      <td>0</td>\n",
       "      <td>0</td>\n",
       "      <td>2</td>\n",
       "      <td>...</td>\n",
       "      <td>1</td>\n",
       "      <td>2</td>\n",
       "      <td>50</td>\n",
       "      <td>212</td>\n",
       "      <td>21</td>\n",
       "      <td>7.0</td>\n",
       "      <td>118.0</td>\n",
       "      <td>1</td>\n",
       "      <td>4</td>\n",
       "      <td>2015</td>\n",
       "    </tr>\n",
       "    <tr>\n",
       "      <th>9175</th>\n",
       "      <td>33</td>\n",
       "      <td>2</td>\n",
       "      <td>70</td>\n",
       "      <td>91</td>\n",
       "      <td>3535</td>\n",
       "      <td>1833.809641</td>\n",
       "      <td>52826</td>\n",
       "      <td>0</td>\n",
       "      <td>0</td>\n",
       "      <td>0</td>\n",
       "      <td>...</td>\n",
       "      <td>1</td>\n",
       "      <td>3</td>\n",
       "      <td>106</td>\n",
       "      <td>107</td>\n",
       "      <td>6</td>\n",
       "      <td>5.0</td>\n",
       "      <td>59.0</td>\n",
       "      <td>23</td>\n",
       "      <td>2</td>\n",
       "      <td>2014</td>\n",
       "    </tr>\n",
       "    <tr>\n",
       "      <th>2126</th>\n",
       "      <td>24</td>\n",
       "      <td>2</td>\n",
       "      <td>3</td>\n",
       "      <td>50</td>\n",
       "      <td>5703</td>\n",
       "      <td>1833.809641</td>\n",
       "      <td>9616</td>\n",
       "      <td>0</td>\n",
       "      <td>0</td>\n",
       "      <td>1</td>\n",
       "      <td>...</td>\n",
       "      <td>1</td>\n",
       "      <td>3</td>\n",
       "      <td>182</td>\n",
       "      <td>46</td>\n",
       "      <td>29</td>\n",
       "      <td>2.0</td>\n",
       "      <td>2.0</td>\n",
       "      <td>29</td>\n",
       "      <td>12</td>\n",
       "      <td>2013</td>\n",
       "    </tr>\n",
       "    <tr>\n",
       "      <th>6403</th>\n",
       "      <td>2</td>\n",
       "      <td>3</td>\n",
       "      <td>66</td>\n",
       "      <td>462</td>\n",
       "      <td>1263</td>\n",
       "      <td>2664.349500</td>\n",
       "      <td>37950</td>\n",
       "      <td>0</td>\n",
       "      <td>0</td>\n",
       "      <td>9</td>\n",
       "      <td>...</td>\n",
       "      <td>1</td>\n",
       "      <td>2</td>\n",
       "      <td>50</td>\n",
       "      <td>213</td>\n",
       "      <td>26</td>\n",
       "      <td>7.0</td>\n",
       "      <td>6.0</td>\n",
       "      <td>20</td>\n",
       "      <td>8</td>\n",
       "      <td>2014</td>\n",
       "    </tr>\n",
       "    <tr>\n",
       "      <th>9481</th>\n",
       "      <td>2</td>\n",
       "      <td>3</td>\n",
       "      <td>231</td>\n",
       "      <td>69</td>\n",
       "      <td>8251</td>\n",
       "      <td>1833.809641</td>\n",
       "      <td>53412</td>\n",
       "      <td>0</td>\n",
       "      <td>0</td>\n",
       "      <td>9</td>\n",
       "      <td>...</td>\n",
       "      <td>2</td>\n",
       "      <td>3</td>\n",
       "      <td>182</td>\n",
       "      <td>46</td>\n",
       "      <td>39</td>\n",
       "      <td>2.0</td>\n",
       "      <td>22.0</td>\n",
       "      <td>2</td>\n",
       "      <td>1</td>\n",
       "      <td>2015</td>\n",
       "    </tr>\n",
       "  </tbody>\n",
       "</table>\n",
       "<p>5 rows × 26 columns</p>\n",
       "</div>"
      ],
      "text/plain": [
       "      site_name  posa_continent  user_location_country  user_location_region  \\\n",
       "3951          2               3                     66                   220   \n",
       "9175         33               2                     70                    91   \n",
       "2126         24               2                      3                    50   \n",
       "6403          2               3                     66                   462   \n",
       "9481          2               3                    231                    69   \n",
       "\n",
       "      user_location_city  orig_destination_distance  user_id  is_mobile  \\\n",
       "3951               43026                4703.589000    23234          0   \n",
       "9175                3535                1833.809641    52826          0   \n",
       "2126                5703                1833.809641     9616          0   \n",
       "6403                1263                2664.349500    37950          0   \n",
       "9481                8251                1833.809641    53412          0   \n",
       "\n",
       "      is_package  channel  ...  cnt  hotel_continent  hotel_country  \\\n",
       "3951           0        2  ...    1                2             50   \n",
       "9175           0        0  ...    1                3            106   \n",
       "2126           0        1  ...    1                3            182   \n",
       "6403           0        9  ...    1                2             50   \n",
       "9481           0        9  ...    2                3            182   \n",
       "\n",
       "      hotel_market  hotel_cluster  stay_duration  no_of_prior_days_booking  \\\n",
       "3951           212             21            7.0                     118.0   \n",
       "9175           107              6            5.0                      59.0   \n",
       "2126            46             29            2.0                       2.0   \n",
       "6403           213             26            7.0                       6.0   \n",
       "9481            46             39            2.0                      22.0   \n",
       "\n",
       "      Cin_day  Cin_month  Cin_year  \n",
       "3951        1          4      2015  \n",
       "9175       23          2      2014  \n",
       "2126       29         12      2013  \n",
       "6403       20          8      2014  \n",
       "9481        2          1      2015  \n",
       "\n",
       "[5 rows x 26 columns]"
      ]
     },
     "execution_count": 153,
     "metadata": {},
     "output_type": "execute_result"
    }
   ],
   "source": [
    "train_subset.head()"
   ]
  },
  {
   "cell_type": "code",
   "execution_count": 154,
   "metadata": {
    "id": "ChTwi_7rGFoy"
   },
   "outputs": [
    {
     "data": {
      "text/plain": [
       "(700, 26)"
      ]
     },
     "execution_count": 154,
     "metadata": {},
     "output_type": "execute_result"
    }
   ],
   "source": [
    "train_subset.shape"
   ]
  },
  {
   "cell_type": "code",
   "execution_count": 155,
   "metadata": {
    "id": "mk9_Cf2CGFoy"
   },
   "outputs": [],
   "source": [
    "X_subset = train.drop(['hotel_cluster'],axis=1)\n",
    "Y_subset = train['hotel_cluster']\n"
   ]
  },
  {
   "cell_type": "code",
   "execution_count": 156,
   "metadata": {
    "id": "kXBUoqACGFoz"
   },
   "outputs": [],
   "source": [
    "X_train_subset, X_test_subset, Y_train_subset, Y_test_subset = train_test_split(X_subset, Y_subset, test_size=0.15, random_state=1)"
   ]
  },
  {
   "cell_type": "code",
   "execution_count": 157,
   "metadata": {
    "id": "r-3XmfLwGFoz"
   },
   "outputs": [
    {
     "name": "stdout",
     "output_type": "stream",
     "text": [
      "Train Accuracy: 81.94%\n",
      "Test Accuracy: 32.15%\n"
     ]
    }
   ],
   "source": [
    "rf_tuning = RandomForestClassifier(n_estimators=5, criterion = 'entropy', max_depth=20)\n",
    "rf_tuning.fit(X_train_subset, Y_train_subset)\n",
    "\n",
    "#Prediction\n",
    "rf_train_prediction = rf_tuning.predict(X_train_subset)\n",
    "rf_test_prediction = rf_tuning.predict( X_test_subset)\n",
    "\n",
    "#Accuracy\n",
    "train_accuracy = accuracy_score(Y_train_subset,rf_train_prediction)\n",
    "test_accuracy = accuracy_score(Y_test_subset,rf_test_prediction)\n",
    "rf_tuning_accuracy = test_accuracy\n",
    "\n",
    "#Print\n",
    "print(\"Train Accuracy: %.2f%%\" % (train_accuracy * 100.0))\n",
    "print(\"Test Accuracy: %.2f%%\" % (test_accuracy * 100.0))"
   ]
  },
  {
   "cell_type": "markdown",
   "metadata": {
    "id": "zcTLjpLQGFo0"
   },
   "source": [
    "### 6.2 Naive Bayes\n",
    "\n",
    "Naive Bayes methods are a set of supervised learning algorithms based on applying Bayes’ theorem with the “naive” assumption of conditional independence between every pair of features given the value of the class variable.\n",
    "\n",
    "Is simple and powerful for classification problems. Also, it is simple to understand, and is fast to build a model and make predictions."
   ]
  },
  {
   "cell_type": "code",
   "execution_count": 158,
   "metadata": {
    "id": "DgQdVYbCGFo0",
    "outputId": "e75d7b17-e1bb-460e-bb25-7476150d50e8"
   },
   "outputs": [
    {
     "name": "stdout",
     "output_type": "stream",
     "text": [
      "Train Accuracy: 11.45%\n",
      "Test Accuracy: 8.74%\n"
     ]
    }
   ],
   "source": [
    "from sklearn.naive_bayes import GaussianNB\n",
    "from sklearn.metrics import accuracy_score\n",
    "\n",
    "#Instantiate\n",
    "gnb = GaussianNB()\n",
    "gnb.fit(X_train,Y_train) \n",
    "\n",
    "#Prediction\n",
    "gnb_train_prediction = gnb.predict(X_train)\n",
    "gnb_test_prediction = gnb.predict(X_test)\n",
    "\n",
    "#Accuracy\n",
    "train_accuracy=accuracy_score(Y_train,gnb_train_prediction)\n",
    "test_accuracy=accuracy_score(Y_test,gnb_test_prediction)\n",
    "gnb_accuracy = test_accuracy\n",
    "\n",
    "#Print\n",
    "print(\"Train Accuracy: %.2f%%\" % (train_accuracy * 100.0))\n",
    "print(\"Test Accuracy: %.2f%%\" % (test_accuracy * 100.0))"
   ]
  },
  {
   "cell_type": "markdown",
   "metadata": {
    "id": "FcF-MuxrGFo0"
   },
   "source": [
    "**Comments**\n",
    "- Naive Bayes is showing a very poor performance if consider les than 15% of accuracy. are not good enough to generalize over the entire data and produce very less results compared to other methods.\n",
    "- Probably the main reason why is performing bad is because it assumes the features are independent, the probabilities are incorrect if this assumption is not correct."
   ]
  },
  {
   "cell_type": "markdown",
   "metadata": {
    "id": "Y1Jwa5rbGFo1"
   },
   "source": [
    "### 6.3 Logistic Regression\n",
    "\n",
    "Logistic regression is a statistical model that uses a logistic function to model a binary dependent variable (true/false, yes/no, 0/1, etc), although many more complex extensions exist. The model is used to model the probability of a certain class or event existing such as pass/fail, win/lose, alive/dead or healthy/sick."
   ]
  },
  {
   "cell_type": "code",
   "execution_count": 159,
   "metadata": {
    "id": "9AX7R6N5GFo1"
   },
   "outputs": [
    {
     "name": "stdout",
     "output_type": "stream",
     "text": [
      "Train Accuracy: 4.70%\n",
      "Test Accuracy: 4.74%\n"
     ]
    },
    {
     "name": "stderr",
     "output_type": "stream",
     "text": [
      "C:\\Users\\sebastian.spena\\Anaconda3\\lib\\site-packages\\sklearn\\linear_model\\_logistic.py:762: ConvergenceWarning: lbfgs failed to converge (status=1):\n",
      "STOP: TOTAL NO. of ITERATIONS REACHED LIMIT.\n",
      "\n",
      "Increase the number of iterations (max_iter) or scale the data as shown in:\n",
      "    https://scikit-learn.org/stable/modules/preprocessing.html\n",
      "Please also refer to the documentation for alternative solver options:\n",
      "    https://scikit-learn.org/stable/modules/linear_model.html#logistic-regression\n",
      "  n_iter_i = _check_optimize_result(\n"
     ]
    }
   ],
   "source": [
    "from sklearn.linear_model import LogisticRegression\n",
    "from sklearn.metrics import accuracy_score\n",
    "\n",
    "#Instantiate\n",
    "lr = LogisticRegression()\n",
    "lr.fit(X_train, Y_train)\n",
    "\n",
    "#Prediction\n",
    "lr_train_prediction = lr.predict(X_train)\n",
    "lr_test_prediction = lr.predict(X_test)\n",
    "\n",
    "#Accuracy\n",
    "train_accuracy=accuracy_score(Y_train,lr_train_prediction)\n",
    "test_accuracy=accuracy_score(Y_test,lr_test_prediction)\n",
    "lr_accuracy = test_accuracy\n",
    "\n",
    "#Print\n",
    "print(\"Train Accuracy: %.2f%%\" % (train_accuracy * 100.0))\n",
    "print(\"Test Accuracy: %.2f%%\" % (test_accuracy * 100.0))"
   ]
  },
  {
   "cell_type": "markdown",
   "metadata": {},
   "source": [
    "**Comments**\n",
    "- The model's predicted probabilities do not follow the true probabilities.\n",
    "- Clearly not a good model for this case."
   ]
  },
  {
   "cell_type": "markdown",
   "metadata": {
    "id": "UpFFzy98GFo1"
   },
   "source": [
    "### 6.4. KNN\n",
    "\n",
    "K-Nearest Neighbors (KNN) is one of the simplest algorithms for regression and classification problems. KNN algorithms use data and classify new data points based on similarity measures (e.g. distance function). The data is assigned to the class which has the nearest neighbors."
   ]
  },
  {
   "cell_type": "code",
   "execution_count": 160,
   "metadata": {
    "id": "OVKLi7x1GFo1"
   },
   "outputs": [
    {
     "name": "stdout",
     "output_type": "stream",
     "text": [
      "Train Accuracy: 42.73%\n",
      "Test Accuracy: 20.25%\n"
     ]
    }
   ],
   "source": [
    "from sklearn import neighbors\n",
    "from sklearn.metrics import accuracy_score\n",
    "\n",
    "#Instantiate\n",
    "knn = neighbors.KNeighborsClassifier()\n",
    "knn.fit(X_train,Y_train)\n",
    "\n",
    "#Prediction\n",
    "knn_train_prediction = knn.predict(X_train)\n",
    "knn_test_prediction = knn.predict(X_test)\n",
    "\n",
    "#Accuracy\n",
    "train_accuracy=accuracy_score(Y_train,knn_train_prediction)\n",
    "test_accuracy=accuracy_score(Y_test,knn_test_prediction)\n",
    "knn_accuracy = test_accuracy\n",
    "\n",
    "#Print\n",
    "print(\"Train Accuracy: %.2f%%\" % (train_accuracy * 100.0)) #42\n",
    "print(\"Test Accuracy: %.2f%%\" % (test_accuracy * 100.0)) #21"
   ]
  },
  {
   "cell_type": "markdown",
   "metadata": {},
   "source": [
    "**Comments**\n",
    "- The model's prediction will be correct 42% of the times, but still has a significant difference vs de test set, implying that there is still a bad estimator or has a lot of noise in the data."
   ]
  },
  {
   "cell_type": "markdown",
   "metadata": {
    "id": "P1SrByLJGFo2"
   },
   "source": [
    "### 6.5 XGBoost\n",
    "\n",
    "XGBoost is a decision-tree-based ensemble Machine Learning algorithm that uses a gradient boosting framework.\n",
    "\n",
    "Gradient boosting relies on the intuition that the best possible next model, when combined with previous models, minimizes the overall prediction error. The key idea is to set the target outcomes for this next model in order to minimize the error. Each case is based on the gradient of the error with respect to the prediction. Each new model takes a step in the direction that minimizes prediction error, in the space of possible predictions for each training case."
   ]
  },
  {
   "cell_type": "code",
   "execution_count": 161,
   "metadata": {
    "id": "CEpricm6GFo2"
   },
   "outputs": [
    {
     "name": "stderr",
     "output_type": "stream",
     "text": [
      "C:\\Users\\sebastian.spena\\Anaconda3\\lib\\site-packages\\xgboost\\sklearn.py:1146: UserWarning: The use of label encoder in XGBClassifier is deprecated and will be removed in a future release. To remove this warning, do the following: 1) Pass option use_label_encoder=False when constructing XGBClassifier object; and 2) Encode your labels (y) as integers starting with 0, i.e. 0, 1, 2, ..., [num_class - 1].\n",
      "  warnings.warn(label_encoder_deprecation_msg, UserWarning)\n"
     ]
    },
    {
     "name": "stdout",
     "output_type": "stream",
     "text": [
      "[10:28:08] WARNING: C:/Users/Administrator/workspace/xgboost-win64_release_1.4.0/src/learner.cc:1095: Starting in XGBoost 1.3.0, the default evaluation metric used with the objective 'multi:softprob' was changed from 'merror' to 'mlogloss'. Explicitly set eval_metric if you'd like to restore the old behavior.\n",
      "Train Accuracy: 89.32%\n",
      "Test Accuracy: 34.06%\n"
     ]
    }
   ],
   "source": [
    "from xgboost import XGBClassifier\n",
    "from sklearn.metrics import accuracy_score\n",
    "\n",
    "#Instantiate\n",
    "xgb = XGBClassifier()\n",
    "xgb.fit(X_train, Y_train)\n",
    "\n",
    "#Prediction\n",
    "xgb_train_prediction = xgb.predict(X_train)\n",
    "xgb_test_prediction = xgb.predict(X_test)\n",
    "\n",
    "#Accuracy\n",
    "train_accuracy = accuracy_score(Y_train, xgb_train_prediction)\n",
    "test_accuracy = accuracy_score(Y_test, xgb_test_prediction)\n",
    "xgb_accuracy = test_accuracy\n",
    "\n",
    "#Printing\n",
    "print(\"Train Accuracy: %.2f%%\" % (train_accuracy * 100.0)) #52\n",
    "print(\"Test Accuracy: %.2f%%\" % (test_accuracy * 100.0)) #28"
   ]
  },
  {
   "cell_type": "markdown",
   "metadata": {
    "id": "LejOCPLCGFo2"
   },
   "source": [
    "**Comments**\n",
    "- XGBoost has a performance very slightly less to that of Random Forest. This is because both methods work in a similar way, handling both categorical features efficiently."
   ]
  },
  {
   "cell_type": "markdown",
   "metadata": {
    "id": "-nuER-I4GFo3"
   },
   "source": [
    "### 6.6 Decision Tree\n",
    "\n",
    "A decision tree is a decision support tool that uses a tree-like model of decisions and their possible consequences, including chance event outcomes, resource costs, and utility. It is one way to display an algorithm that only contains conditional control statements."
   ]
  },
  {
   "cell_type": "code",
   "execution_count": 162,
   "metadata": {
    "id": "DaRRfijnGFo3"
   },
   "outputs": [
    {
     "name": "stdout",
     "output_type": "stream",
     "text": [
      "Train Accuracy: 89.64%\n",
      "Test Accuracy: 31.12%\n"
     ]
    }
   ],
   "source": [
    "from sklearn.tree import DecisionTreeClassifier\n",
    "from sklearn.metrics import accuracy_score\n",
    "\n",
    "#Instantiate\n",
    "dt = DecisionTreeClassifier()\n",
    "dt.fit(X_train, Y_train)\n",
    "\n",
    "#Prediction\n",
    "dt_train_prediction = dt.predict(X_train)\n",
    "dt_test_prediction = dt.predict(X_test)\n",
    "\n",
    "#Accuracy\n",
    "train_accuracy = accuracy_score(Y_train, dt_train_prediction)\n",
    "test_accuracy = accuracy_score(Y_test, dt_test_prediction)\n",
    "dt_accuracy = test_accuracy\n",
    "\n",
    "#Printing\n",
    "print(\"Train Accuracy: %.2f%%\" % (train_accuracy * 100.0)) #70\n",
    "print(\"Test Accuracy: %.2f%%\" % (test_accuracy * 100.0)) #27"
   ]
  },
  {
   "cell_type": "markdown",
   "metadata": {},
   "source": [
    "**Comments**\n",
    "- Again, Decision Tree has a performance very similar to XGBoost and Random Forest. But not improving our first model."
   ]
  },
  {
   "cell_type": "markdown",
   "metadata": {
    "id": "ohaUg63fGFo4"
   },
   "source": [
    "## 7. Model Comparison"
   ]
  },
  {
   "cell_type": "code",
   "execution_count": 163,
   "metadata": {
    "id": "wb_2WJ0rGFo4"
   },
   "outputs": [
    {
     "data": {
      "text/plain": [
       "[32.48832555036691,\n",
       " 8.739159439626418,\n",
       " 4.736490993995997,\n",
       " 20.246831220813878,\n",
       " 34.056037358238825,\n",
       " 31.120747164776517]"
      ]
     },
     "execution_count": 163,
     "metadata": {},
     "output_type": "execute_result"
    }
   ],
   "source": [
    "accuracy=[rf_accuracy*100,gnb_accuracy*100,lr_accuracy*100,knn_accuracy*100,xgb_accuracy*100,dt_accuracy*100]\n",
    "accuracy"
   ]
  },
  {
   "cell_type": "code",
   "execution_count": 164,
   "metadata": {
    "id": "YCbfNKxqGFo4"
   },
   "outputs": [],
   "source": [
    "algorithms=[\"Random Forest\",\"Guassian Naive Bayes\",\"Logistic Regression\",\"KNN\",\"XGBoost\",\"Decsion trees\"]"
   ]
  },
  {
   "cell_type": "code",
   "execution_count": 165,
   "metadata": {
    "id": "244_YrVkGFo4",
    "scrolled": true
   },
   "outputs": [
    {
     "data": {
      "image/png": "[encoded data removed]",
      "text/plain": [
       "<Figure size 1080x360 with 1 Axes>"
      ]
     },
     "metadata": {
      "needs_background": "light"
     },
     "output_type": "display_data"
    }
   ],
   "source": [
    "plt.figure(figsize=(15,5))\n",
    "plt.bar(algorithms,accuracy,width=0.3)\n",
    "plt.xlabel('Algorithms used')\n",
    "plt.ylabel('% of accuracy')\n",
    "plt.title('% of accuracy by algorithm model')\n",
    "plt.show()"
   ]
  },
  {
   "cell_type": "markdown",
   "metadata": {
    "id": "52J4CJiMGFo5"
   },
   "source": [
    "## 8. Solution"
   ]
  },
  {
   "cell_type": "markdown",
   "metadata": {
    "id": "tZXCbb7UGFo5"
   },
   "source": [
    "**Comments**\n",
    "- I have searched on internet specifically on Kaggle to understand how to solve this problem. So, from the random forest model I should work on a set of 5 options."
   ]
  },
  {
   "cell_type": "code",
   "execution_count": 166,
   "metadata": {
    "id": "jSBq6IUBGFo5",
    "outputId": "2084c4f6-2ff4-428d-a942-e8f967eea788"
   },
   "outputs": [],
   "source": [
    "prob_predictions_train = rf.predict_proba(X_train)\n",
    "prob_predictions_test = rf.predict_proba(X_test)"
   ]
  },
  {
   "cell_type": "code",
   "execution_count": 167,
   "metadata": {
    "id": "r_VKIYmLGFo6"
   },
   "outputs": [
    {
     "data": {
      "text/plain": [
       "(6995, 100)"
      ]
     },
     "execution_count": 167,
     "metadata": {},
     "output_type": "execute_result"
    }
   ],
   "source": [
    "prob_predictions_train.shape"
   ]
  },
  {
   "cell_type": "code",
   "execution_count": 168,
   "metadata": {
    "id": "J_T42jCkGFo6"
   },
   "outputs": [
    {
     "data": {
      "text/plain": [
       "array([[ 0, 72, 71, ..., 85, 60, 57],\n",
       "       [ 0, 70, 69, ..., 13, 72, 18],\n",
       "       [ 0, 72, 71, ..., 76, 57, 40],\n",
       "       ...,\n",
       "       [ 0, 71, 70, ...,  6, 15, 42],\n",
       "       [ 0, 69, 68, ..., 25, 18, 21],\n",
       "       [ 0, 72, 71, ..., 36,  2,  8]], dtype=int64)"
      ]
     },
     "execution_count": 168,
     "metadata": {},
     "output_type": "execute_result"
    }
   ],
   "source": [
    "top_train_hotel_clusters = prob_predictions_train.argsort(axis=1)\n",
    "top_train_hotel_clusters"
   ]
  },
  {
   "cell_type": "code",
   "execution_count": 169,
   "metadata": {
    "id": "iMSyr3pPGFo7"
   },
   "outputs": [
    {
     "data": {
      "text/plain": [
       "(0.0, 0.0)"
      ]
     },
     "execution_count": 169,
     "metadata": {},
     "output_type": "execute_result"
    }
   ],
   "source": [
    "prob_predictions_train[0,53], prob_predictions_train[0,0]"
   ]
  },
  {
   "cell_type": "code",
   "execution_count": 170,
   "metadata": {
    "id": "PCEW6JFHGFo7"
   },
   "outputs": [
    {
     "data": {
      "text/plain": [
       "0.0"
      ]
     },
     "execution_count": 170,
     "metadata": {},
     "output_type": "execute_result"
    }
   ],
   "source": [
    "prob_predictions_train[0,49]"
   ]
  },
  {
   "cell_type": "code",
   "execution_count": 171,
   "metadata": {
    "id": "x-vOHtarGFo7"
   },
   "outputs": [
    {
     "data": {
      "text/plain": [
       "array([[ 0, 72, 71, ..., 85, 60, 57],\n",
       "       [ 0, 70, 69, ..., 13, 72, 18],\n",
       "       [ 0, 72, 71, ..., 76, 57, 40],\n",
       "       ...,\n",
       "       [ 0, 71, 70, ...,  6, 15, 42],\n",
       "       [ 0, 69, 68, ..., 25, 18, 21],\n",
       "       [ 0, 72, 71, ..., 36,  2,  8]], dtype=int64)"
      ]
     },
     "execution_count": 171,
     "metadata": {},
     "output_type": "execute_result"
    }
   ],
   "source": [
    "prob_predictions_train.argsort(axis=1)"
   ]
  },
  {
   "cell_type": "code",
   "execution_count": 172,
   "metadata": {
    "id": "yStpsz8qGFo7"
   },
   "outputs": [
    {
     "data": {
      "text/plain": [
       "array([[57, 60, 85, ..., 71, 72,  0],\n",
       "       [18, 72, 13, ..., 69, 70,  0],\n",
       "       [40, 57, 76, ..., 71, 72,  0],\n",
       "       ...,\n",
       "       [42, 15,  6, ..., 70, 71,  0],\n",
       "       [21, 18, 25, ..., 68, 69,  0],\n",
       "       [ 8,  2, 36, ..., 71, 72,  0]], dtype=int64)"
      ]
     },
     "execution_count": 172,
     "metadata": {},
     "output_type": "execute_result"
    }
   ],
   "source": [
    "np.flip(prob_predictions_train.argsort(axis=1), axis=1)"
   ]
  },
  {
   "cell_type": "code",
   "execution_count": 173,
   "metadata": {
    "id": "Uf14NT38GFo8"
   },
   "outputs": [
    {
     "data": {
      "text/plain": [
       "array([[57, 60, 85, 61, 27],\n",
       "       [18, 72, 13, 28, 21],\n",
       "       [40, 57, 76, 14, 47],\n",
       "       ...,\n",
       "       [42, 15,  6, 48, 16],\n",
       "       [21, 18, 25, 83, 72],\n",
       "       [ 8,  2, 36, 62, 99]], dtype=int64)"
      ]
     },
     "execution_count": 173,
     "metadata": {},
     "output_type": "execute_result"
    }
   ],
   "source": [
    "temp = np.flip(prob_predictions_train.argsort(axis=1), axis=1)[:,0:5]\n",
    "temp"
   ]
  },
  {
   "cell_type": "code",
   "execution_count": 174,
   "metadata": {
    "id": "KFrPjnDEGFo8"
   },
   "outputs": [
    {
     "data": {
      "text/plain": [
       "2189    57\n",
       "1964    18\n",
       "9354    40\n",
       "8801    78\n",
       "9395    32\n",
       "        ..\n",
       "2896    35\n",
       "7816    50\n",
       "905     42\n",
       "5194    21\n",
       "235      2\n",
       "Name: hotel_cluster, Length: 6995, dtype: int64"
      ]
     },
     "execution_count": 174,
     "metadata": {},
     "output_type": "execute_result"
    }
   ],
   "source": [
    "Y_train"
   ]
  },
  {
   "cell_type": "code",
   "execution_count": 175,
   "metadata": {
    "id": "Y5KYXvMEGFo9"
   },
   "outputs": [
    {
     "data": {
      "text/plain": [
       "array([63, 57, 29, ..., 42, 21,  8], dtype=int64)"
      ]
     },
     "execution_count": 175,
     "metadata": {},
     "output_type": "execute_result"
    }
   ],
   "source": [
    "rf_train_prediction"
   ]
  },
  {
   "cell_type": "code",
   "execution_count": 176,
   "metadata": {
    "id": "3_ZySeCAGFo9"
   },
   "outputs": [],
   "source": [
    "y_train_index_reset = Y_train.reset_index(drop=True)"
   ]
  },
  {
   "cell_type": "code",
   "execution_count": 177,
   "metadata": {
    "id": "5I0F4OdrGFo9"
   },
   "outputs": [
    {
     "data": {
      "text/plain": [
       "0       57\n",
       "1       18\n",
       "2       40\n",
       "3       78\n",
       "4       32\n",
       "        ..\n",
       "6990    35\n",
       "6991    50\n",
       "6992    42\n",
       "6993    21\n",
       "6994     2\n",
       "Name: hotel_cluster, Length: 6995, dtype: int64"
      ]
     },
     "execution_count": 177,
     "metadata": {},
     "output_type": "execute_result"
    }
   ],
   "source": [
    "y_train_index_reset"
   ]
  },
  {
   "cell_type": "code",
   "execution_count": 178,
   "metadata": {
    "id": "XdHAzLdoGFo-"
   },
   "outputs": [
    {
     "data": {
      "text/plain": [
       "6938"
      ]
     },
     "execution_count": 178,
     "metadata": {},
     "output_type": "execute_result"
    }
   ],
   "source": [
    "# y_train_index_reset = Y_train.reset_index()\n",
    "predicted_in_top_5 = 0\n",
    "for i in range(len(y_train_index_reset)-1):\n",
    "    if y_train_index_reset[i] in temp[i,:]:\n",
    "        predicted_in_top_5 = predicted_in_top_5 + 1\n",
    "predicted_in_top_5"
   ]
  },
  {
   "cell_type": "code",
   "execution_count": 179,
   "metadata": {
    "id": "0wY1wkobGFo-"
   },
   "outputs": [
    {
     "data": {
      "text/plain": [
       "99.18513223731237"
      ]
     },
     "execution_count": 179,
     "metadata": {},
     "output_type": "execute_result"
    }
   ],
   "source": [
    "predicted_in_top_5/len(y_train_index_reset) * 100"
   ]
  },
  {
   "cell_type": "code",
   "execution_count": 180,
   "metadata": {
    "id": "DIDQYw0WGFo-"
   },
   "outputs": [
    {
     "data": {
      "text/plain": [
       "6995"
      ]
     },
     "execution_count": 180,
     "metadata": {},
     "output_type": "execute_result"
    }
   ],
   "source": [
    "len(y_train_index_reset)"
   ]
  },
  {
   "cell_type": "code",
   "execution_count": 181,
   "metadata": {
    "id": "q5VjkplqGFo_"
   },
   "outputs": [
    {
     "name": "stdout",
     "output_type": "stream",
     "text": [
      "99.18513223731237\n"
     ]
    }
   ],
   "source": [
    "k = 5\n",
    "temp = np.flip(prob_predictions_train.argsort(axis=1), axis=1)[:,0:k]\n",
    "predicted_in_top_k = 0\n",
    "for i in range(len(y_train_index_reset)-1):\n",
    "    if y_train_index_reset[i] in temp[i,:]:\n",
    "        predicted_in_top_k = predicted_in_top_k + 1\n",
    "predicted_in_top_k\n",
    "accuracy = predicted_in_top_k/len(y_train_index_reset) * 100\n",
    "print(accuracy)"
   ]
  },
  {
   "cell_type": "code",
   "execution_count": 182,
   "metadata": {
    "id": "g6YnWGhzGFo_"
   },
   "outputs": [
    {
     "name": "stdout",
     "output_type": "stream",
     "text": [
      "57.37158105403603\n"
     ]
    }
   ],
   "source": [
    "#Let's do the same for test\n",
    "\n",
    "k = 5\n",
    "temp = np.flip(prob_predictions_test.argsort(axis=1), axis=1)[:,0:k]\n",
    "y_test_index_reset = Y_test.reset_index(drop=True)\n",
    "predicted_in_top_k = 0\n",
    "for i in range(len(y_test_index_reset)-1):\n",
    "    if y_test_index_reset[i] in temp[i,:]:\n",
    "        predicted_in_top_k = predicted_in_top_k + 1\n",
    "predicted_in_top_k\n",
    "accuracy = predicted_in_top_k/len(y_test_index_reset) * 100\n",
    "print(accuracy)"
   ]
  }
 ],
 "metadata": {
  "colab": {
   "name": "Expedia Hotel Recommendations.ipynb",
   "provenance": []
  },
  "kernelspec": {
   "display_name": "Python 3",
   "language": "python",
   "name": "python3"
  },
  "language_info": {
   "codemirror_mode": {
    "name": "ipython",
    "version": 3
   },
   "file_extension": ".py",
   "mimetype": "text/x-python",
   "name": "python",
   "nbconvert_exporter": "python",
   "pygments_lexer": "ipython3",
   "version": "3.8.5"
  }
 },
 "nbformat": 4,
 "nbformat_minor": 1
}
